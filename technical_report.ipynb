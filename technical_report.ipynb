{
 "cells": [
  {
   "cell_type": "code",
   "execution_count": 1,
   "id": "4e69bf3d",
   "metadata": {},
   "outputs": [],
   "source": [
    "import matplotlib.pyplot as plt"
   ]
  },
  {
   "cell_type": "markdown",
   "id": "strange-bobby",
   "metadata": {
    "id": "bA5ajAmk7XH6"
   },
   "source": [
    "### Project Brief\n",
    "\n",
    "You have been hired by Inn the Neighborhood, an online platform that allows people to rent out their properties for short stays. Currently, the webpage for renters has a conversion rate of 2%. This means that most people leave the platform without signing up. \n",
    "\n",
    "The product manager would like to increase this conversion rate. They are interested in developing an application to help people estimate the money they could earn renting out their living space. They hope that this would make people more likely to sign up.\n",
    "\n",
    "The company has provided you with a dataset that includes details about each property rented, as well as the price charged per night. They want to avoid estimating prices that are more than 25 dollars off of the actual price, as this may discourage people.\n",
    "\n",
    "You will need to present your findings in two formats:\n",
    "- You must submit a written report summarising your analysis to your manager. As a data science manager, your manager has a strong technical background and wants to understand what you have done and why. \n",
    "- You will then need to share your findings with the product manager in a 10 minute presentation. The product manager has no data science background but is familiar with basic data related terminology. \n",
    "\n",
    "The data you will use for this analysis can be accessed here: `\"data/rentals.csv\"`"
   ]
  },
  {
   "cell_type": "markdown",
   "id": "426d22f8",
   "metadata": {},
   "source": [
    "<a id=\"cont\"></a>\n",
    "\n",
    "## Table of Contents\n",
    "\n",
    "<a href=#one>1. Importing Packages</a>\n",
    "\n",
    "<a href=#two>2. Loading Data</a>\n",
    "\n",
    "<a href=#three>3. Data Cleaning</a>\n",
    "\n",
    "<a href=#four>4. Exploratory Data Analysis (EDA)</a>\n",
    "\n",
    "<a href=#five>5. Engineering Features</a>\n",
    "\n",
    "<a href=#six>6. Modeling</a>\n",
    "\n",
    "<a href=#seven>7. Model Evaluation & Performance</a>\n",
    "\n",
    "<a href=#eight>8. Future Work</a>\n",
    "\n",
    "<a href=#nine>9. Outcome and Conclusion </a>\n",
    "\n",
    "<a href=#ten>10. References</a>"
   ]
  },
  {
   "cell_type": "markdown",
   "id": "a7381ebc",
   "metadata": {},
   "source": [
    "<a id=\"one\"></a>\n",
    "## 1. Importing Packages\n",
    "<a href=#cont>Back to Table of Contents</a>\n"
   ]
  },
  {
   "cell_type": "code",
   "execution_count": 70,
   "id": "dde054ff",
   "metadata": {},
   "outputs": [],
   "source": [
    "# importing basic and fundamental libaries\n",
    "import pandas as pd\n",
    "import numpy as np\n",
    "import matplotlib.pyplot as plt\n",
    "import seaborn as sns\n",
    "import re\n",
    "from empiricaldist import Cdf, Pmf\n",
    "from scipy.stats import pearsonr\n",
    "import pickle\n",
    "\n",
    "# importing libraries for modelling form sklearn\n",
    "from sklearn.linear_model import LinearRegression, Ridge,Lasso\n",
    "from sklearn.neighbors import KNeighborsRegressor\n",
    "from sklearn.ensemble import GradientBoostingRegressor\n",
    "from sklearn.ensemble import ExtraTreesRegressor, RandomForestRegressor\n",
    "from sklearn.tree import DecisionTreeRegressor\n",
    "\n",
    "# other sklearn preprocessing libraries\n",
    "from sklearn.model_selection import RepeatedKFold\n",
    "from sklearn.model_selection import GridSearchCV\n",
    "from sklearn.preprocessing import MinMaxScaler\n",
    "from sklearn.feature_selection import VarianceThreshold\n",
    "from sklearn.pipeline import Pipeline\n",
    "from sklearn import metrics\n",
    "from sklearn.model_selection import train_test_split\n",
    "\n",
    "# Suppressing unnwarranted warnings\n",
    "import warnings\n",
    "warnings.filterwarnings(\"ignore\")"
   ]
  },
  {
   "cell_type": "markdown",
   "id": "c13bb1e9",
   "metadata": {},
   "source": [
    "<a id=\"two\"></a>\n",
    "## 2. Loading the Data\n",
    "<a class=\"anchor\" id=\"1.1\"></a>\n",
    "<a href=#cont>Back to Table of Contents</a>"
   ]
  },
  {
   "cell_type": "code",
   "execution_count": 3,
   "id": "valued-laptop",
   "metadata": {
    "scrolled": true
   },
   "outputs": [],
   "source": [
    "# load the train data\n",
    "df = pd.read_csv(\"data/rentals.csv\")"
   ]
  },
  {
   "cell_type": "markdown",
   "id": "b71d104e",
   "metadata": {},
   "source": [
    "For this project, Pandas library will be used to access and manipulate the datasets. Hence, the datasets are loaded into df pandas dataframes. A Dataframe is a native data structure of the Pandas library which provides easier and visually appealling means of handling data. <br><br>"
   ]
  },
  {
   "cell_type": "code",
   "execution_count": 4,
   "id": "2e610831-9ee4-4461-84c2-90a8cef2fc8d",
   "metadata": {
    "scrolled": true
   },
   "outputs": [
    {
     "data": {
      "text/plain": [
       "'This is an overview of the project dataset'"
      ]
     },
     "metadata": {},
     "output_type": "display_data"
    },
    {
     "data": {
      "text/html": [
       "<div>\n",
       "<style scoped>\n",
       "    .dataframe tbody tr th:only-of-type {\n",
       "        vertical-align: middle;\n",
       "    }\n",
       "\n",
       "    .dataframe tbody tr th {\n",
       "        vertical-align: top;\n",
       "    }\n",
       "\n",
       "    .dataframe thead th {\n",
       "        text-align: right;\n",
       "    }\n",
       "</style>\n",
       "<table border=\"1\" class=\"dataframe\">\n",
       "  <thead>\n",
       "    <tr style=\"text-align: right;\">\n",
       "      <th></th>\n",
       "      <th>id</th>\n",
       "      <th>latitude</th>\n",
       "      <th>longitude</th>\n",
       "      <th>property_type</th>\n",
       "      <th>room_type</th>\n",
       "      <th>bathrooms</th>\n",
       "      <th>bedrooms</th>\n",
       "      <th>minimum_nights</th>\n",
       "      <th>price</th>\n",
       "    </tr>\n",
       "  </thead>\n",
       "  <tbody>\n",
       "    <tr>\n",
       "      <th>4380</th>\n",
       "      <td>22998690</td>\n",
       "      <td>37.75781</td>\n",
       "      <td>-122.42370</td>\n",
       "      <td>Apartment</td>\n",
       "      <td>Private room</td>\n",
       "      <td>1.0</td>\n",
       "      <td>1.0</td>\n",
       "      <td>1</td>\n",
       "      <td>$100.00</td>\n",
       "    </tr>\n",
       "    <tr>\n",
       "      <th>7110</th>\n",
       "      <td>35220630</td>\n",
       "      <td>37.76496</td>\n",
       "      <td>-122.39044</td>\n",
       "      <td>Apartment</td>\n",
       "      <td>Entire home/apt</td>\n",
       "      <td>1.0</td>\n",
       "      <td>1.0</td>\n",
       "      <td>30</td>\n",
       "      <td>$193.00</td>\n",
       "    </tr>\n",
       "    <tr>\n",
       "      <th>5241</th>\n",
       "      <td>27454459</td>\n",
       "      <td>37.74919</td>\n",
       "      <td>-122.48756</td>\n",
       "      <td>House</td>\n",
       "      <td>Private room</td>\n",
       "      <td>1.0</td>\n",
       "      <td>1.0</td>\n",
       "      <td>1</td>\n",
       "      <td>$74.00</td>\n",
       "    </tr>\n",
       "    <tr>\n",
       "      <th>4737</th>\n",
       "      <td>24379811</td>\n",
       "      <td>37.73362</td>\n",
       "      <td>-122.48529</td>\n",
       "      <td>House</td>\n",
       "      <td>Entire home/apt</td>\n",
       "      <td>1.0</td>\n",
       "      <td>1.0</td>\n",
       "      <td>3</td>\n",
       "      <td>$139.00</td>\n",
       "    </tr>\n",
       "    <tr>\n",
       "      <th>219</th>\n",
       "      <td>307837</td>\n",
       "      <td>37.75131</td>\n",
       "      <td>-122.43700</td>\n",
       "      <td>House</td>\n",
       "      <td>Entire home/apt</td>\n",
       "      <td>1.0</td>\n",
       "      <td>1.0</td>\n",
       "      <td>7</td>\n",
       "      <td>$159.00</td>\n",
       "    </tr>\n",
       "    <tr>\n",
       "      <th>2727</th>\n",
       "      <td>14214684</td>\n",
       "      <td>37.74991</td>\n",
       "      <td>-122.42875</td>\n",
       "      <td>Condominium</td>\n",
       "      <td>Entire home/apt</td>\n",
       "      <td>1.0</td>\n",
       "      <td>1.0</td>\n",
       "      <td>30</td>\n",
       "      <td>$199.00</td>\n",
       "    </tr>\n",
       "    <tr>\n",
       "      <th>2362</th>\n",
       "      <td>11259062</td>\n",
       "      <td>37.75239</td>\n",
       "      <td>-122.42648</td>\n",
       "      <td>Guesthouse</td>\n",
       "      <td>Entire home/apt</td>\n",
       "      <td>1.0</td>\n",
       "      <td>0.0</td>\n",
       "      <td>30</td>\n",
       "      <td>$159.00</td>\n",
       "    </tr>\n",
       "    <tr>\n",
       "      <th>7709</th>\n",
       "      <td>38040767</td>\n",
       "      <td>37.78964</td>\n",
       "      <td>-122.40643</td>\n",
       "      <td>Boutique hotel</td>\n",
       "      <td>Hotel room</td>\n",
       "      <td>1.0</td>\n",
       "      <td>1.0</td>\n",
       "      <td>5</td>\n",
       "      <td>$199.00</td>\n",
       "    </tr>\n",
       "    <tr>\n",
       "      <th>347</th>\n",
       "      <td>589767</td>\n",
       "      <td>37.79648</td>\n",
       "      <td>-122.41180</td>\n",
       "      <td>Apartment</td>\n",
       "      <td>Entire home/apt</td>\n",
       "      <td>1.0</td>\n",
       "      <td>2.0</td>\n",
       "      <td>5</td>\n",
       "      <td>$295.00</td>\n",
       "    </tr>\n",
       "    <tr>\n",
       "      <th>7101</th>\n",
       "      <td>35179918</td>\n",
       "      <td>37.71590</td>\n",
       "      <td>-122.46198</td>\n",
       "      <td>House</td>\n",
       "      <td>Entire home/apt</td>\n",
       "      <td>1.0</td>\n",
       "      <td>3.0</td>\n",
       "      <td>30</td>\n",
       "      <td>$250.00</td>\n",
       "    </tr>\n",
       "  </tbody>\n",
       "</table>\n",
       "</div>"
      ],
      "text/plain": [
       "            id  latitude  longitude   property_type        room_type  \\\n",
       "4380  22998690  37.75781 -122.42370       Apartment     Private room   \n",
       "7110  35220630  37.76496 -122.39044       Apartment  Entire home/apt   \n",
       "5241  27454459  37.74919 -122.48756           House     Private room   \n",
       "4737  24379811  37.73362 -122.48529           House  Entire home/apt   \n",
       "219     307837  37.75131 -122.43700           House  Entire home/apt   \n",
       "2727  14214684  37.74991 -122.42875     Condominium  Entire home/apt   \n",
       "2362  11259062  37.75239 -122.42648      Guesthouse  Entire home/apt   \n",
       "7709  38040767  37.78964 -122.40643  Boutique hotel       Hotel room   \n",
       "347     589767  37.79648 -122.41180       Apartment  Entire home/apt   \n",
       "7101  35179918  37.71590 -122.46198           House  Entire home/apt   \n",
       "\n",
       "      bathrooms  bedrooms  minimum_nights     price  \n",
       "4380        1.0       1.0               1  $100.00   \n",
       "7110        1.0       1.0              30  $193.00   \n",
       "5241        1.0       1.0               1   $74.00   \n",
       "4737        1.0       1.0               3  $139.00   \n",
       "219         1.0       1.0               7  $159.00   \n",
       "2727        1.0       1.0              30  $199.00   \n",
       "2362        1.0       0.0              30  $159.00   \n",
       "7709        1.0       1.0               5  $199.00   \n",
       "347         1.0       2.0               5  $295.00   \n",
       "7101        1.0       3.0              30  $250.00   "
      ]
     },
     "execution_count": 4,
     "metadata": {},
     "output_type": "execute_result"
    }
   ],
   "source": [
    "# displaying a few rows of both dataset\n",
    "display(\"\"\"This is an overview of the project dataset\"\"\")\n",
    "df.sample(10)"
   ]
  },
  {
   "cell_type": "markdown",
   "id": "bbe97547",
   "metadata": {},
   "source": [
    "<a id=\"three\"></a>\n",
    "## 3. Data cleaning\n",
    "<a class=\"anchor\" id=\"1.1\"></a>\n",
    "<a href=#cont>Back to Table of Contents</a>"
   ]
  },
  {
   "cell_type": "markdown",
   "id": "6a54e8d9",
   "metadata": {},
   "source": [
    "##### Statistical measurement of each features/columns"
   ]
  },
  {
   "cell_type": "code",
   "execution_count": 166,
   "id": "f8445526",
   "metadata": {},
   "outputs": [],
   "source": [
    "import re"
   ]
  },
  {
   "cell_type": "code",
   "execution_count": 168,
   "id": "dd236b55",
   "metadata": {},
   "outputs": [],
   "source": [
    "latitude = 37\n",
    "longitude = 122\n",
    "property_type = 'Earth house'\n",
    "room_type = 'Private room'\n",
    "bathrooms = 5\n",
    "bedrooms = 3\n",
    "minimum_nights = 30"
   ]
  },
  {
   "cell_type": "code",
   "execution_count": 182,
   "id": "8388a381",
   "metadata": {},
   "outputs": [],
   "source": [
    "dicting = {'latitude':latitude,\n",
    "           'bathrooms':bathrooms, 'bedrooms':bedrooms, 'minimum_nights':minimum_nights}"
   ]
  },
  {
   "cell_type": "code",
   "execution_count": 183,
   "id": "dbb78edc",
   "metadata": {},
   "outputs": [],
   "source": [
    "for x in df_encoded.columns:\n",
    "    if re.match(r'property_type', x):\n",
    "        matching = re.search(r'[a-zA-Z ]+', x.split('_')[-1])\n",
    "        if matching.group() == property_type:\n",
    "            dicting[x] = 1\n",
    "        else:\n",
    "            dicting[x] = 0\n",
    "\n",
    "for x in df_encoded.columns:\n",
    "    if re.match(r'room_type', x):\n",
    "        matching = re.search(r'[a-zA-Z ]+', x.split('_')[-1])\n",
    "        if matching.group() == room_type:\n",
    "            dicting[x] = 1\n",
    "        else:\n",
    "            dicting[x] = 0"
   ]
  },
  {
   "cell_type": "code",
   "execution_count": 184,
   "id": "de4320b1",
   "metadata": {},
   "outputs": [
    {
     "data": {
      "text/plain": [
       "{'latitude': 37,\n",
       " 'bathrooms': 5,\n",
       " 'bedrooms': 3,\n",
       " 'minimum_nights': 30,\n",
       " 'property_type_Apartment': 0,\n",
       " 'property_type_Bed and breakfast': 0,\n",
       " 'property_type_Boutique hotel': 0,\n",
       " 'property_type_Bungalow': 0,\n",
       " 'property_type_Cabin': 0,\n",
       " 'property_type_Camper/RV': 0,\n",
       " 'property_type_Castle': 0,\n",
       " 'property_type_Condominium': 0,\n",
       " 'property_type_Cottage': 0,\n",
       " 'property_type_Dome house': 0,\n",
       " 'property_type_Earth house': 1,\n",
       " 'property_type_Guest suite': 0,\n",
       " 'property_type_Guesthouse': 0,\n",
       " 'property_type_Hostel': 0,\n",
       " 'property_type_Hotel': 0,\n",
       " 'property_type_House': 0,\n",
       " 'property_type_Hut': 0,\n",
       " 'property_type_In-law': 0,\n",
       " 'property_type_Loft': 0,\n",
       " 'property_type_Other': 0,\n",
       " 'property_type_Resort': 0,\n",
       " 'property_type_Serviced apartment': 0,\n",
       " 'property_type_Tiny house': 0,\n",
       " 'property_type_Townhouse': 0,\n",
       " 'property_type_Villa': 0,\n",
       " 'room_type_Hotel room': 0,\n",
       " 'room_type_Private room': 1,\n",
       " 'room_type_Shared room': 0}"
      ]
     },
     "execution_count": 184,
     "metadata": {},
     "output_type": "execute_result"
    }
   ],
   "source": [
    "dicting"
   ]
  },
  {
   "cell_type": "code",
   "execution_count": 197,
   "id": "c116efd5",
   "metadata": {},
   "outputs": [],
   "source": [
    "def normmalize(predictors: dict):\n",
    "    scaler = MinMaxScaler()\n",
    "    temp_df = pd.DataFrame(predictors, index=[0])\n",
    "    scaling = scaler.fit_transform(X)\n",
    "    scal = scaler.transform(temp_df)\n",
    "    X_normalize = pd.DataFrame(scal, columns=predictors.keys())\n",
    "    return X_normalize"
   ]
  },
  {
   "cell_type": "code",
   "execution_count": 198,
   "id": "cec9fabb",
   "metadata": {},
   "outputs": [],
   "source": [
    "dd = normmalize(dicting)"
   ]
  },
  {
   "cell_type": "code",
   "execution_count": 199,
   "id": "9df46cb4",
   "metadata": {},
   "outputs": [
    {
     "data": {
      "text/html": [
       "<div>\n",
       "<style scoped>\n",
       "    .dataframe tbody tr th:only-of-type {\n",
       "        vertical-align: middle;\n",
       "    }\n",
       "\n",
       "    .dataframe tbody tr th {\n",
       "        vertical-align: top;\n",
       "    }\n",
       "\n",
       "    .dataframe thead th {\n",
       "        text-align: right;\n",
       "    }\n",
       "</style>\n",
       "<table border=\"1\" class=\"dataframe\">\n",
       "  <thead>\n",
       "    <tr style=\"text-align: right;\">\n",
       "      <th></th>\n",
       "      <th>latitude</th>\n",
       "      <th>bathrooms</th>\n",
       "      <th>bedrooms</th>\n",
       "      <th>minimum_nights</th>\n",
       "      <th>property_type_Apartment</th>\n",
       "      <th>property_type_Bed and breakfast</th>\n",
       "      <th>property_type_Boutique hotel</th>\n",
       "      <th>property_type_Bungalow</th>\n",
       "      <th>property_type_Cabin</th>\n",
       "      <th>property_type_Camper/RV</th>\n",
       "      <th>...</th>\n",
       "      <th>property_type_Loft</th>\n",
       "      <th>property_type_Other</th>\n",
       "      <th>property_type_Resort</th>\n",
       "      <th>property_type_Serviced apartment</th>\n",
       "      <th>property_type_Tiny house</th>\n",
       "      <th>property_type_Townhouse</th>\n",
       "      <th>property_type_Villa</th>\n",
       "      <th>room_type_Hotel room</th>\n",
       "      <th>room_type_Private room</th>\n",
       "      <th>room_type_Shared room</th>\n",
       "    </tr>\n",
       "  </thead>\n",
       "  <tbody>\n",
       "    <tr>\n",
       "      <th>0</th>\n",
       "      <td>-5.68</td>\n",
       "      <td>0.50</td>\n",
       "      <td>0.60</td>\n",
       "      <td>0.08</td>\n",
       "      <td>0.00</td>\n",
       "      <td>0.00</td>\n",
       "      <td>0.00</td>\n",
       "      <td>0.00</td>\n",
       "      <td>0.00</td>\n",
       "      <td>0.00</td>\n",
       "      <td>...</td>\n",
       "      <td>0.00</td>\n",
       "      <td>0.00</td>\n",
       "      <td>0.00</td>\n",
       "      <td>0.00</td>\n",
       "      <td>0.00</td>\n",
       "      <td>0.00</td>\n",
       "      <td>0.00</td>\n",
       "      <td>0.00</td>\n",
       "      <td>1.00</td>\n",
       "      <td>0.00</td>\n",
       "    </tr>\n",
       "  </tbody>\n",
       "</table>\n",
       "<p>1 rows × 32 columns</p>\n",
       "</div>"
      ],
      "text/plain": [
       "   latitude  bathrooms  bedrooms  minimum_nights  property_type_Apartment  \\\n",
       "0     -5.68       0.50      0.60            0.08                     0.00   \n",
       "\n",
       "   property_type_Bed and breakfast  property_type_Boutique hotel  \\\n",
       "0                             0.00                          0.00   \n",
       "\n",
       "   property_type_Bungalow  property_type_Cabin  property_type_Camper/RV  ...  \\\n",
       "0                    0.00                 0.00                     0.00  ...   \n",
       "\n",
       "   property_type_Loft  property_type_Other  property_type_Resort  \\\n",
       "0                0.00                 0.00                  0.00   \n",
       "\n",
       "   property_type_Serviced apartment  property_type_Tiny house  \\\n",
       "0                              0.00                      0.00   \n",
       "\n",
       "   property_type_Townhouse  property_type_Villa  room_type_Hotel room  \\\n",
       "0                     0.00                 0.00                  0.00   \n",
       "\n",
       "   room_type_Private room  room_type_Shared room  \n",
       "0                    1.00                   0.00  \n",
       "\n",
       "[1 rows x 32 columns]"
      ]
     },
     "execution_count": 199,
     "metadata": {},
     "output_type": "execute_result"
    }
   ],
   "source": [
    "dd"
   ]
  },
  {
   "cell_type": "code",
   "execution_count": 201,
   "id": "f43c93de",
   "metadata": {},
   "outputs": [
    {
     "data": {
      "text/plain": [
       "32"
      ]
     },
     "execution_count": 201,
     "metadata": {},
     "output_type": "execute_result"
    }
   ],
   "source": [
    "len(X.columns)"
   ]
  },
  {
   "cell_type": "code",
   "execution_count": 190,
   "id": "e406535f",
   "metadata": {},
   "outputs": [],
   "source": [
    "scaler = MinMaxScaler()\n",
    "temp_df = pd.DataFrame(dicting, index=[0])\n",
    "scaling = scaler.fit_transform(X)\n",
    "scal = scaler.transform(temp_df)"
   ]
  },
  {
   "cell_type": "code",
   "execution_count": 191,
   "id": "264e41cd",
   "metadata": {},
   "outputs": [
    {
     "name": "stdout",
     "output_type": "stream",
     "text": [
      "[-5.67517719  0.5         0.6         0.07967033  0.          0.\n",
      "  0.          0.          0.          0.          0.          0.\n",
      "  0.          0.          1.          0.          0.          0.\n",
      "  0.          0.          0.          0.          0.          0.\n",
      "  0.          0.          0.          0.          0.          0.\n",
      "  1.          0.        ]\n"
     ]
    }
   ],
   "source": [
    "for x in scal:\n",
    "    print(x)"
   ]
  },
  {
   "cell_type": "code",
   "execution_count": 142,
   "id": "75598e5e",
   "metadata": {},
   "outputs": [
    {
     "name": "stdout",
     "output_type": "stream",
     "text": [
      "dict_values([37, 122, 5, 3, 30, 0, 0, 0, 0, 0, 0, 0, 0, 0, 0, 1, 0, 0, 0, 0, 0, 0, 0, 0, 0, 0, 0, 0, 0, 0, 0, 1, 0])\n"
     ]
    }
   ],
   "source": [
    "dd = normmalize(dicting)"
   ]
  },
  {
   "cell_type": "code",
   "execution_count": 76,
   "id": "02704d38",
   "metadata": {},
   "outputs": [
    {
     "data": {
      "text/plain": [
       "Index(['id', 'latitude', 'longitude', 'property_type', 'room_type',\n",
       "       'bathrooms', 'bedrooms', 'minimum_nights', 'price'],\n",
       "      dtype='object')"
      ]
     },
     "execution_count": 76,
     "metadata": {},
     "output_type": "execute_result"
    }
   ],
   "source": [
    "# Checking information about the dataset datatype\n",
    "df.columns"
   ]
  },
  {
   "cell_type": "markdown",
   "id": "800ef7ef",
   "metadata": {},
   "source": [
    "As it is better to have all our features and target variable to be `numeric` datatype, we will only convert the `should be` numeric datatype and leave the rest conversion/encoding to the <a href=#five>Engineering Features</a> section\n",
    "- Looking at the dataset overview in <a href=#two>Loading Data</a> section  and by intuition , it is obvious that `price` `should be` numeric datatype and the `dollar sign make it otherwise, we will remove this symbol and convert to an integer datatype"
   ]
  },
  {
   "cell_type": "code",
   "execution_count": 6,
   "id": "38e1f196",
   "metadata": {},
   "outputs": [],
   "source": [
    "# Confirming if it is safe to convert to integer datatype\n",
    "price = list(df.price)\n",
    "for x in range(len(price)):\n",
    "    xx = re.findall(r'\\.[1-9]', price[x]) # checking if there are significant figure after the decimal point\n",
    "    if xx:\n",
    "        print(xx)"
   ]
  },
  {
   "cell_type": "markdown",
   "id": "a5ef5df7",
   "metadata": {},
   "source": [
    "since we have no feedback from the iteration, it shows that we have no significant figure after the decimal point and can safely convert to `integer` instead of `float`"
   ]
  },
  {
   "cell_type": "code",
   "execution_count": 7,
   "id": "c261ab75",
   "metadata": {},
   "outputs": [],
   "source": [
    "# Converting extracting actual price and converting to integer\n",
    "df['price'] = df['price'].str.extract('(\\d+)').astype('int64')"
   ]
  },
  {
   "cell_type": "markdown",
   "id": "60044446",
   "metadata": {},
   "source": [
    "##### 3.1. Checking duplicate entries using the `id` column"
   ]
  },
  {
   "cell_type": "code",
   "execution_count": 8,
   "id": "609882c8",
   "metadata": {},
   "outputs": [
    {
     "name": "stdout",
     "output_type": "stream",
     "text": [
      "There seem not to be duplicate in the dataset\n"
     ]
    }
   ],
   "source": [
    "uni_df = df.id.value_counts() # checking for unique 'id' and there frequency\n",
    "check = uni_df.loc[uni_df > 1] # filtering and checking any idd with more than '1' frequency\n",
    "\n",
    "# An if/else statement to check for the duplicate id(s)\n",
    "if len(check) > 1:\n",
    "    print('There is duplicate in the dataset')\n",
    "else:\n",
    "    print('There seem not to be duplicate in the dataset')"
   ]
  },
  {
   "cell_type": "markdown",
   "id": "f8d885e0",
   "metadata": {},
   "source": [
    "<a id=\"four\"></a>\n",
    "## 4. Exploratory Data Analysis (EDA)\n",
    "<a class=\"anchor\" id=\"1.1\"></a>\n",
    "<a href=#cont>Back to Table of Contents</a>\n"
   ]
  },
  {
   "cell_type": "markdown",
   "id": "8a5ae51b",
   "metadata": {},
   "source": [
    "Checking information about the dataset, number of rows/entries, presence of null value and confirm the datatype again"
   ]
  },
  {
   "cell_type": "code",
   "execution_count": 9,
   "id": "a5a5e766",
   "metadata": {},
   "outputs": [
    {
     "name": "stdout",
     "output_type": "stream",
     "text": [
      "<class 'pandas.core.frame.DataFrame'>\n",
      "RangeIndex: 8111 entries, 0 to 8110\n",
      "Data columns (total 9 columns):\n",
      " #   Column          Non-Null Count  Dtype  \n",
      "---  ------          --------------  -----  \n",
      " 0   id              8111 non-null   int64  \n",
      " 1   latitude        8111 non-null   float64\n",
      " 2   longitude       8111 non-null   float64\n",
      " 3   property_type   8111 non-null   object \n",
      " 4   room_type       8111 non-null   object \n",
      " 5   bathrooms       8099 non-null   float64\n",
      " 6   bedrooms        8107 non-null   float64\n",
      " 7   minimum_nights  8111 non-null   int64  \n",
      " 8   price           8111 non-null   int64  \n",
      "dtypes: float64(4), int64(3), object(2)\n",
      "memory usage: 570.4+ KB\n"
     ]
    }
   ],
   "source": [
    "df.info()"
   ]
  },
  {
   "cell_type": "markdown",
   "id": "74491af4",
   "metadata": {},
   "source": [
    "* We now have 7 numeric datatype and two non numeric which are `property_type` and `room_type`\n",
    "* Total entries/rows are `8111` and that means `bathrooms and bedrooms` features have null values present"
   ]
  },
  {
   "cell_type": "code",
   "execution_count": 10,
   "id": "3b50145d",
   "metadata": {},
   "outputs": [
    {
     "name": "stdout",
     "output_type": "stream",
     "text": [
      "This are columns that are non-numeric ['id', 'latitude', 'longitude', 'bathrooms', 'bedrooms', 'minimum_nights', 'price']\n",
      "This are columns that are object/character datatype(s) ['property_type', 'room_type']\n"
     ]
    }
   ],
   "source": [
    "# listing the non-numeric datatypes\n",
    "numerics_list = [x for x in df.select_dtypes(include=['int64', 'float64'])]\n",
    "print('This are columns that are non-numeric', numerics_list)\n",
    "\n",
    "# Columns that are object datatypes\n",
    "object_list = [x for x in df.select_dtypes('object')]\n",
    "print('This are columns that are object/character datatype(s)', object_list)"
   ]
  },
  {
   "cell_type": "code",
   "execution_count": 11,
   "id": "d27701b6",
   "metadata": {},
   "outputs": [
    {
     "data": {
      "text/html": [
       "<div>\n",
       "<style scoped>\n",
       "    .dataframe tbody tr th:only-of-type {\n",
       "        vertical-align: middle;\n",
       "    }\n",
       "\n",
       "    .dataframe tbody tr th {\n",
       "        vertical-align: top;\n",
       "    }\n",
       "\n",
       "    .dataframe thead th {\n",
       "        text-align: right;\n",
       "    }\n",
       "</style>\n",
       "<table border=\"1\" class=\"dataframe\">\n",
       "  <thead>\n",
       "    <tr style=\"text-align: right;\">\n",
       "      <th></th>\n",
       "      <th>count</th>\n",
       "      <th>mean</th>\n",
       "      <th>std</th>\n",
       "      <th>min</th>\n",
       "      <th>25%</th>\n",
       "      <th>50%</th>\n",
       "      <th>75%</th>\n",
       "      <th>max</th>\n",
       "    </tr>\n",
       "  </thead>\n",
       "  <tbody>\n",
       "    <tr>\n",
       "      <th>id</th>\n",
       "      <td>8111.00</td>\n",
       "      <td>20245608.35</td>\n",
       "      <td>12285654.21</td>\n",
       "      <td>958.00</td>\n",
       "      <td>8905668.00</td>\n",
       "      <td>21610572.00</td>\n",
       "      <td>31200253.50</td>\n",
       "      <td>39354181.00</td>\n",
       "    </tr>\n",
       "    <tr>\n",
       "      <th>latitude</th>\n",
       "      <td>8111.00</td>\n",
       "      <td>37.77</td>\n",
       "      <td>0.02</td>\n",
       "      <td>37.70</td>\n",
       "      <td>37.75</td>\n",
       "      <td>37.77</td>\n",
       "      <td>37.79</td>\n",
       "      <td>37.83</td>\n",
       "    </tr>\n",
       "    <tr>\n",
       "      <th>longitude</th>\n",
       "      <td>8111.00</td>\n",
       "      <td>-122.43</td>\n",
       "      <td>0.03</td>\n",
       "      <td>-122.51</td>\n",
       "      <td>-122.44</td>\n",
       "      <td>-122.42</td>\n",
       "      <td>-122.41</td>\n",
       "      <td>-122.37</td>\n",
       "    </tr>\n",
       "    <tr>\n",
       "      <th>bathrooms</th>\n",
       "      <td>8099.00</td>\n",
       "      <td>1.40</td>\n",
       "      <td>0.92</td>\n",
       "      <td>0.00</td>\n",
       "      <td>1.00</td>\n",
       "      <td>1.00</td>\n",
       "      <td>1.50</td>\n",
       "      <td>14.00</td>\n",
       "    </tr>\n",
       "    <tr>\n",
       "      <th>bedrooms</th>\n",
       "      <td>8107.00</td>\n",
       "      <td>1.35</td>\n",
       "      <td>0.93</td>\n",
       "      <td>0.00</td>\n",
       "      <td>1.00</td>\n",
       "      <td>1.00</td>\n",
       "      <td>2.00</td>\n",
       "      <td>14.00</td>\n",
       "    </tr>\n",
       "    <tr>\n",
       "      <th>minimum_nights</th>\n",
       "      <td>8111.00</td>\n",
       "      <td>12345.26</td>\n",
       "      <td>1110357.24</td>\n",
       "      <td>1.00</td>\n",
       "      <td>2.00</td>\n",
       "      <td>4.00</td>\n",
       "      <td>30.00</td>\n",
       "      <td>100000000.00</td>\n",
       "    </tr>\n",
       "    <tr>\n",
       "      <th>price</th>\n",
       "      <td>8111.00</td>\n",
       "      <td>189.43</td>\n",
       "      <td>146.80</td>\n",
       "      <td>0.00</td>\n",
       "      <td>99.00</td>\n",
       "      <td>150.00</td>\n",
       "      <td>230.00</td>\n",
       "      <td>999.00</td>\n",
       "    </tr>\n",
       "  </tbody>\n",
       "</table>\n",
       "</div>"
      ],
      "text/plain": [
       "                 count        mean         std     min        25%         50%  \\\n",
       "id             8111.00 20245608.35 12285654.21  958.00 8905668.00 21610572.00   \n",
       "latitude       8111.00       37.77        0.02   37.70      37.75       37.77   \n",
       "longitude      8111.00     -122.43        0.03 -122.51    -122.44     -122.42   \n",
       "bathrooms      8099.00        1.40        0.92    0.00       1.00        1.00   \n",
       "bedrooms       8107.00        1.35        0.93    0.00       1.00        1.00   \n",
       "minimum_nights 8111.00    12345.26  1110357.24    1.00       2.00        4.00   \n",
       "price          8111.00      189.43      146.80    0.00      99.00      150.00   \n",
       "\n",
       "                       75%          max  \n",
       "id             31200253.50  39354181.00  \n",
       "latitude             37.79        37.83  \n",
       "longitude          -122.41      -122.37  \n",
       "bathrooms             1.50        14.00  \n",
       "bedrooms              2.00        14.00  \n",
       "minimum_nights       30.00 100000000.00  \n",
       "price               230.00       999.00  "
      ]
     },
     "execution_count": 11,
     "metadata": {},
     "output_type": "execute_result"
    }
   ],
   "source": [
    "pd.options.display.float_format = '{:.2f}'.format\n",
    "df.describe().T"
   ]
  },
  {
   "cell_type": "markdown",
   "id": "ca3d7fe2",
   "metadata": {},
   "source": [
    "Looking at the statistics for the numeric features, only `minimum_nights`  have strong indication of outliers\n",
    "* `latitude and longitude` have a small variation of it values considering there respective `standard deviation measure`"
   ]
  },
  {
   "cell_type": "markdown",
   "id": "163766de",
   "metadata": {},
   "source": [
    "##### 4.1. Understanding the distribution of the `target` variable (`price`)"
   ]
  },
  {
   "cell_type": "code",
   "execution_count": 12,
   "id": "8ea3ba97",
   "metadata": {},
   "outputs": [
    {
     "data": {
      "image/png": "[encoded data removed]",
      "text/plain": [
       "<Figure size 576x576 with 1 Axes>"
      ]
     },
     "metadata": {
      "needs_background": "light"
     },
     "output_type": "display_data"
    }
   ],
   "source": [
    "# Calculating the cumulative frequency of 'price' and plotting\n",
    "cdf = Cdf.from_seq(df['price'])\n",
    "cdf.plot(figsize=(8,8))\n",
    "plt.hlines(xmin=0, xmax=1001, y=0.5, linestyles='--', color='red', alpha=0.5)\n",
    "plt.vlines(ymin=0, ymax=1, x=cdf.inverse(0.5), linestyles='--', color='red', alpha=0.5)\n",
    "plt.text(s=f'{cdf.inverse(0.5)} USD', x=cdf.inverse(0.5), y=0.5, fontsize=15)\n",
    "plt.xlabel(\"price\", fontsize=15)\n",
    "plt.ylabel(\"CDF\", fontsize=15)\n",
    "plt.show()"
   ]
  },
  {
   "cell_type": "markdown",
   "id": "a39dfe22",
   "metadata": {},
   "source": [
    "From the cummulative distribution frequency (CDF) curve, it shows that half of the outlet renting out price per night are less than 150 USD"
   ]
  },
  {
   "cell_type": "code",
   "execution_count": 13,
   "id": "575385fa",
   "metadata": {},
   "outputs": [
    {
     "data": {
      "image/png": "[encoded data removed]",
      "text/plain": [
       "<Figure size 432x288 with 1 Axes>"
      ]
     },
     "metadata": {
      "needs_background": "light"
     },
     "output_type": "display_data"
    }
   ],
   "source": [
    "# Checking the distribution and skewness of the target varaible using histogram\n",
    "df[['price']].plot(kind='hist')\n",
    "plt.xlabel(\"price\", fontsize=15);"
   ]
  },
  {
   "cell_type": "markdown",
   "id": "75dcec14",
   "metadata": {},
   "source": [
    "This confirm our observation in the CDF and the reason why our dataset is skewed to the right, having bulk of the property been rented out for lower cost"
   ]
  },
  {
   "cell_type": "markdown",
   "id": "e90a5be1",
   "metadata": {},
   "source": [
    "##### 4.2. Checking the distribution of each numerical predictors in the dataset"
   ]
  },
  {
   "cell_type": "code",
   "execution_count": 14,
   "id": "1bed06ee",
   "metadata": {},
   "outputs": [
    {
     "data": {
      "image/png": "[encoded data removed]",
      "text/plain": [
       "<Figure size 1296x576 with 6 Axes>"
      ]
     },
     "metadata": {
      "needs_background": "light"
     },
     "output_type": "display_data"
    }
   ],
   "source": [
    "figsize, ax = plt.subplots(2,3, figsize=(18,8))\n",
    "ax=ax.ravel() # flatten the array to allow iteration\n",
    "for index, column in enumerate(numerics_list[:-1]):\n",
    "    cdf = Cdf.from_seq(df[column])\n",
    "    cdf.plot(ax=ax[index])\n",
    "    ax[index].hlines(xmin=0, xmax=df[column].max(), y=0.5, linestyles='--', color='red', alpha=0.5)\n",
    "    ax[index].vlines(ymin=0, ymax=1, x=cdf.inverse(0.5), linestyles='--', color='red', alpha=0.5)\n",
    "    ax[index].text(s=cdf.inverse(0.5), x=cdf.inverse(0.5), y=0.5, fontsize=15)\n",
    "    ax[index].set_xlabel(f\"{column}\", fontsize=15)\n",
    "    ax[index].set_ylabel(\"CDF\", fontsize=15)\n",
    "plt.show()"
   ]
  },
  {
   "cell_type": "markdown",
   "id": "cdcfab86",
   "metadata": {},
   "source": [
    "* `id` is not an informative features at least not in this project\n",
    "* `Latitude and Longitude` with the straight line instead of a `curve`, further confirm that there is little or no variation across board\n",
    "* `bathrooms, bedrooms, and minimum_nights` features have variation but with most of the data skewed to the `right` and upto 70% of this property have `1 bathroom`\n",
    "    - In the case of `minimum nights` the distribution is not accurately shown since it contains `outlier`"
   ]
  },
  {
   "cell_type": "markdown",
   "id": "1dc5925b",
   "metadata": {},
   "source": [
    "Dealing with the outlier in `minimum_nights` just to be sure of the distribution shown"
   ]
  },
  {
   "cell_type": "code",
   "execution_count": 15,
   "id": "d2533ef3",
   "metadata": {},
   "outputs": [
    {
     "data": {
      "text/plain": [
       "100000000     1\n",
       "1125          1\n",
       "1000          1\n",
       "365           9\n",
       "360           3\n",
       "200           1\n",
       "188           1\n",
       "183           3\n",
       "180          18\n",
       "150           1\n",
       "Name: minimum_nights, dtype: int64"
      ]
     },
     "execution_count": 15,
     "metadata": {},
     "output_type": "execute_result"
    }
   ],
   "source": [
    "# Checking unique values in the 'minimum_nights' and picking out the outliers\n",
    "df.minimum_nights.value_counts().sort_index(ascending=False).head(10)"
   ]
  },
  {
   "cell_type": "markdown",
   "id": "9cdf450d",
   "metadata": {},
   "source": [
    "It seems we only have three entry contributing (massively) as the outlier, having the value `1000 upward`\n",
    "- Though some one can decide to rent out is `living space` for `1000 usd`, since it they have frequency of `one`. It may have drastic effect on our data exploration and insight that would be inferred"
   ]
  },
  {
   "cell_type": "code",
   "execution_count": 16,
   "id": "1c5506e2",
   "metadata": {},
   "outputs": [],
   "source": [
    "# Dropping the rows having the outlier highlighted above\n",
    "df.drop(df.loc[df['minimum_nights']>=1000].index, axis=0, inplace=True)"
   ]
  },
  {
   "cell_type": "markdown",
   "id": "7a76fa68",
   "metadata": {},
   "source": [
    "To confirm the this `skewed assumption`, we will plot the histogram for the three features highlighted above"
   ]
  },
  {
   "cell_type": "code",
   "execution_count": 17,
   "id": "f4080606",
   "metadata": {
    "scrolled": true
   },
   "outputs": [
    {
     "data": {
      "image/png": "[encoded data removed]",
      "text/plain": [
       "<Figure size 1080x360 with 3 Axes>"
      ]
     },
     "metadata": {
      "needs_background": "light"
     },
     "output_type": "display_data"
    }
   ],
   "source": [
    "# Confirming the distribution and skewness of the bathrooms, bedrooms, and minimum_nights varaible using histogram\n",
    "figsize, ax = plt.subplots(1,3, figsize=(15,5))\n",
    "for index, column in enumerate(['bathrooms', 'bedrooms', 'minimum_nights']):\n",
    "    df[[column]].dropna().plot(kind='hist', ax=ax[index])\n",
    "    ax[index].set_xlabel(column, fontsize=15);"
   ]
  },
  {
   "cell_type": "markdown",
   "id": "afa77adf",
   "metadata": {},
   "source": [
    "The skeweness shows that we have bulk of the `living space` have small numbers of `bathrooms, bedrooms and minimum nights`"
   ]
  },
  {
   "cell_type": "markdown",
   "id": "d192fe38",
   "metadata": {},
   "source": [
    "##### 4.3. Checking the distribution of each non-numerical predictors in the dataset"
   ]
  },
  {
   "cell_type": "code",
   "execution_count": 18,
   "id": "51d9ae68",
   "metadata": {
    "scrolled": false
   },
   "outputs": [
    {
     "data": {
      "image/png": "[encoded data removed]",
      "text/plain": [
       "<Figure size 1296x360 with 2 Axes>"
      ]
     },
     "metadata": {
      "needs_background": "light"
     },
     "output_type": "display_data"
    }
   ],
   "source": [
    "# Confirming the distribution and skewness of the bathrooms, bedrooms, and minimum_nights varaible using histogram\n",
    "figsize, ax = plt.subplots(1,2, figsize=(18,5))\n",
    "for index, column in enumerate(object_list):\n",
    "    sns.countplot(x=column,  data=df, ax=ax[index])\n",
    "    ax[index].set_xticklabels(ax[index].get_xticklabels(), rotation=75)"
   ]
  },
  {
   "cell_type": "markdown",
   "id": "939081e9",
   "metadata": {},
   "source": [
    "* There are more `Apartment type` than any other property type in the dataset<br><br>\n",
    "* There are also more `Entire home/apt type` than any other room type<br><br>\n",
    "This suggest most people renting out this variant of spaces more often or more willingly"
   ]
  },
  {
   "cell_type": "markdown",
   "id": "7dab6fd0",
   "metadata": {},
   "source": [
    "##### 4.4. Checking relationship of `non-numerical` with the `target variable`"
   ]
  },
  {
   "cell_type": "code",
   "execution_count": 19,
   "id": "caa4f00e",
   "metadata": {
    "scrolled": false
   },
   "outputs": [
    {
     "data": {
      "image/png": "[encoded data removed]",
      "text/plain": [
       "<Figure size 720x864 with 2 Axes>"
      ]
     },
     "metadata": {
      "needs_background": "light"
     },
     "output_type": "display_data"
    }
   ],
   "source": [
    "# Ploting a barchart\n",
    "fig, ax = plt.subplots(2, 1, figsize=(10,12))\n",
    "ax = ax.ravel()\n",
    "for index, column in enumerate(object_list):\n",
    "    sns.barplot(x=df[column], y=df['price'], ax=ax[index])\n",
    "    ax[index].set_xticklabels(ax[index].get_xticklabels(), rotation=65)\n",
    "fig.tight_layout();"
   ]
  },
  {
   "cell_type": "markdown",
   "id": "4b6d82cc",
   "metadata": {},
   "source": [
    "* `Earth house` are more costlier than any other property type and same goes for `Entire home/apt` room types\n",
    "    - This shows that `Entire home/apt` are often rent out and are also the costlest of the type of spaces"
   ]
  },
  {
   "cell_type": "markdown",
   "id": "868f22c7",
   "metadata": {},
   "source": [
    "##### 4.5. Checking relationship of `non-numerical` features with the `bedroom and bathroom`"
   ]
  },
  {
   "cell_type": "code",
   "execution_count": 20,
   "id": "febc3f36",
   "metadata": {},
   "outputs": [
    {
     "data": {
      "image/png": "[encoded data removed]",
      "text/plain": [
       "<Figure size 1080x864 with 4 Axes>"
      ]
     },
     "metadata": {
      "needs_background": "light"
     },
     "output_type": "display_data"
    }
   ],
   "source": [
    "# Ploting a barchart\n",
    "fig, ax = plt.subplots(2, 2, figsize=(15,12))\n",
    "# ax = ax.ravel()\n",
    "for index, column in enumerate(['bedrooms', 'bathrooms']):\n",
    "    sns.barplot(x=df['property_type'], y=df[column], ax=ax[index, 0])\n",
    "    sns.barplot(x=df['room_type'], y=df[column], ax=ax[index, 1])\n",
    "    ax[index, 0].set_xticklabels(ax[index, 0].get_xticklabels(), rotation=75)\n",
    "    ax[index, 1].set_xticklabels(ax[index, 1].get_xticklabels(), rotation=75)\n",
    "fig.tight_layout();"
   ]
  },
  {
   "cell_type": "markdown",
   "id": "41d23df7",
   "metadata": {},
   "source": [
    "* `Dome house` `type of property` standout having more `bedroom` and `Entire home/apt type of room` standout as having more `bedrooms`<br><br>\n",
    "\n",
    "* `Bed and Breakfast type of property` and `shared room type of room` stand out having more `bathrooms`"
   ]
  },
  {
   "cell_type": "markdown",
   "id": "467226d6",
   "metadata": {},
   "source": [
    "##### 4.6. Checking relationship of selected `numerical` features with the target variable `price`"
   ]
  },
  {
   "cell_type": "code",
   "execution_count": 21,
   "id": "40c02a35",
   "metadata": {},
   "outputs": [
    {
     "data": {
      "image/png": "[encoded data removed]",
      "text/plain": [
       "<Figure size 1512x504 with 3 Axes>"
      ]
     },
     "metadata": {
      "needs_background": "light"
     },
     "output_type": "display_data"
    }
   ],
   "source": [
    "fig, ax = plt.subplots(1, 3, figsize = (21, 7), sharey=True)\n",
    "for index, column in enumerate(['bedrooms', 'bathrooms', 'minimum_nights']):\n",
    "    sns.scatterplot(y='price', x='bathrooms', data=df, ax=ax[index])"
   ]
  },
  {
   "cell_type": "markdown",
   "id": "8810a750",
   "metadata": {},
   "source": [
    "The scatter plot for the selected/interesting numerical features shows no form of linearity\n",
    "- We will further check if the numerical features have `linearity` with each other by plot an heat map correlation of all numeric datatypes"
   ]
  },
  {
   "cell_type": "code",
   "execution_count": 22,
   "id": "8dd55edd",
   "metadata": {},
   "outputs": [
    {
     "data": {
      "image/png": "[encoded data removed]",
      "text/plain": [
       "<Figure size 1080x720 with 2 Axes>"
      ]
     },
     "metadata": {},
     "output_type": "display_data"
    }
   ],
   "source": [
    "# correlation heatmap\n",
    "sns.set_style('darkgrid')\n",
    "fig = plt.figure(figsize=(15,10));\n",
    "ax = fig.add_subplot(111);\n",
    "sns.heatmap(df.corr(), annot=True, linewidths=.5)\n",
    "plt.savefig('corr.png', bbox_inches='tight');"
   ]
  },
  {
   "cell_type": "markdown",
   "id": "4a77bb9e",
   "metadata": {},
   "source": [
    "- The most correlated are `bedrooms and bathrooms` and are only correlated with our target varaible `price` and have fair not too strong relationship<br><br>\n",
    "- Though there is no multicolinearity, we also don't have more predictor correlated with our target variable, which could have been a good thing"
   ]
  },
  {
   "cell_type": "markdown",
   "id": "78576591",
   "metadata": {},
   "source": [
    "##### 4.7. Checking for outliers"
   ]
  },
  {
   "cell_type": "code",
   "execution_count": 23,
   "id": "ee5be218",
   "metadata": {},
   "outputs": [
    {
     "data": {
      "image/png": "[encoded data removed]",
      "text/plain": [
       "<Figure size 1512x1080 with 6 Axes>"
      ]
     },
     "metadata": {},
     "output_type": "display_data"
    }
   ],
   "source": [
    "# Using visual to check for outliers\n",
    "fig, ax = plt.subplots(3,2, figsize=(21,15))\n",
    "ax=ax.ravel()\n",
    "for index, coln in enumerate(numerics_list[1:]):\n",
    "    sns.boxenplot(x=coln, data=df, ax=ax[index])\n",
    "plt.savefig('boxplot.png', bbox_inches='tight')"
   ]
  },
  {
   "cell_type": "markdown",
   "id": "4c9bb944",
   "metadata": {},
   "source": [
    "* `Bathrooms and bedrooms` have outlier that can have impact on our dataset, which we will deal with in the <a href=#five>Engineering Features</a> section"
   ]
  },
  {
   "cell_type": "markdown",
   "id": "db1aef1d",
   "metadata": {},
   "source": [
    "<a id=\"five\"></a>\n",
    "## 5. Engineering Features\n",
    "<a class=\"anchor\" id=\"1.1\"></a>\n",
    "<a href=#cont>Back to Table of Contents</a>"
   ]
  },
  {
   "cell_type": "markdown",
   "id": "e045ba10",
   "metadata": {},
   "source": [
    "##### 5.1. Dealing with null values"
   ]
  },
  {
   "cell_type": "code",
   "execution_count": 24,
   "id": "19fc3c64",
   "metadata": {},
   "outputs": [
    {
     "data": {
      "text/plain": [
       "id                 0\n",
       "latitude           0\n",
       "longitude          0\n",
       "property_type      0\n",
       "room_type          0\n",
       "bathrooms         12\n",
       "bedrooms           4\n",
       "minimum_nights     0\n",
       "price              0\n",
       "dtype: int64"
      ]
     },
     "execution_count": 24,
     "metadata": {},
     "output_type": "execute_result"
    }
   ],
   "source": [
    "df.isnull().sum()"
   ]
  },
  {
   "cell_type": "markdown",
   "id": "1a7811f1",
   "metadata": {},
   "source": [
    "we have null value present in `bathrooms and bedrooms`<br><br>"
   ]
  },
  {
   "cell_type": "code",
   "execution_count": 25,
   "id": "11c54b78",
   "metadata": {
    "scrolled": true
   },
   "outputs": [
    {
     "name": "stdout",
     "output_type": "stream",
     "text": [
      "Bedrooms stat. > Mean: 1.35, Mode: 1.0, Median: 1.0\n",
      "Bathrooms stat. > Mean: 1.4, Mode: 1.0, Median: 1.0\n"
     ]
    }
   ],
   "source": [
    "#checking for the mean median and mode of the variable\n",
    "stat_bed = [round(np.mean(df.bedrooms),2), df.bedrooms.mode()[0], df.bedrooms.median()]\n",
    "stat_bath = [round(np.mean(df.bathrooms),2), df.bathrooms.mode()[0], df.bathrooms.median()]\n",
    "print(f'Bedrooms stat. > Mean: {stat_bed[0]}, Mode: {stat_bed[1]}, Median: {stat_bed[2]}')\n",
    "print(f'Bathrooms stat. > Mean: {stat_bath[0]}, Mode: {stat_bath[1]}, Median: {stat_bath[2]}')\n"
   ]
  },
  {
   "cell_type": "markdown",
   "id": "bf3d8ff3",
   "metadata": {},
   "source": [
    "It is intiutive and logical to fill missing value for both affect columns with one (1)"
   ]
  },
  {
   "cell_type": "code",
   "execution_count": 26,
   "id": "495e7404",
   "metadata": {},
   "outputs": [],
   "source": [
    "# Replacing the value with the value of one (1)\n",
    "df['bathrooms'] = df['bathrooms'].fillna(1.00).astype('int64')\n",
    "df['bedrooms'] = df['bedrooms'].fillna(1.00).astype('int64')\n"
   ]
  },
  {
   "cell_type": "markdown",
   "id": "39e45d2e",
   "metadata": {},
   "source": [
    "##### 5.2. Dealing with outliers"
   ]
  },
  {
   "cell_type": "markdown",
   "id": "43c2f28e",
   "metadata": {},
   "source": [
    "From the visual in on outliers we can gather that outliers are present in;\n",
    "- Bedrooms: which are values from 6 upward and<br><br> \n",
    "- Bathrooms: which only includes value `14`<br><br>\n",
    "we will filter our dataset to check those entries that meet this conditions"
   ]
  },
  {
   "cell_type": "code",
   "execution_count": 27,
   "id": "c64172b7",
   "metadata": {},
   "outputs": [
    {
     "data": {
      "text/html": [
       "<div>\n",
       "<style scoped>\n",
       "    .dataframe tbody tr th:only-of-type {\n",
       "        vertical-align: middle;\n",
       "    }\n",
       "\n",
       "    .dataframe tbody tr th {\n",
       "        vertical-align: top;\n",
       "    }\n",
       "\n",
       "    .dataframe thead th {\n",
       "        text-align: right;\n",
       "    }\n",
       "</style>\n",
       "<table border=\"1\" class=\"dataframe\">\n",
       "  <thead>\n",
       "    <tr style=\"text-align: right;\">\n",
       "      <th></th>\n",
       "      <th>id</th>\n",
       "      <th>latitude</th>\n",
       "      <th>longitude</th>\n",
       "      <th>property_type</th>\n",
       "      <th>room_type</th>\n",
       "      <th>bathrooms</th>\n",
       "      <th>bedrooms</th>\n",
       "      <th>minimum_nights</th>\n",
       "      <th>price</th>\n",
       "    </tr>\n",
       "  </thead>\n",
       "  <tbody>\n",
       "    <tr>\n",
       "      <th>1909</th>\n",
       "      <td>8119395</td>\n",
       "      <td>37.79</td>\n",
       "      <td>-122.44</td>\n",
       "      <td>House</td>\n",
       "      <td>Entire home/apt</td>\n",
       "      <td>4</td>\n",
       "      <td>6</td>\n",
       "      <td>2</td>\n",
       "      <td>2</td>\n",
       "    </tr>\n",
       "    <tr>\n",
       "      <th>2021</th>\n",
       "      <td>8864274</td>\n",
       "      <td>37.79</td>\n",
       "      <td>-122.44</td>\n",
       "      <td>House</td>\n",
       "      <td>Entire home/apt</td>\n",
       "      <td>4</td>\n",
       "      <td>6</td>\n",
       "      <td>4</td>\n",
       "      <td>1</td>\n",
       "    </tr>\n",
       "    <tr>\n",
       "      <th>2210</th>\n",
       "      <td>10369097</td>\n",
       "      <td>37.77</td>\n",
       "      <td>-122.44</td>\n",
       "      <td>House</td>\n",
       "      <td>Entire home/apt</td>\n",
       "      <td>3</td>\n",
       "      <td>6</td>\n",
       "      <td>1</td>\n",
       "      <td>888</td>\n",
       "    </tr>\n",
       "    <tr>\n",
       "      <th>2386</th>\n",
       "      <td>11442093</td>\n",
       "      <td>37.78</td>\n",
       "      <td>-122.42</td>\n",
       "      <td>Boutique hotel</td>\n",
       "      <td>Private room</td>\n",
       "      <td>14</td>\n",
       "      <td>14</td>\n",
       "      <td>7</td>\n",
       "      <td>69</td>\n",
       "    </tr>\n",
       "    <tr>\n",
       "      <th>2502</th>\n",
       "      <td>12607119</td>\n",
       "      <td>37.80</td>\n",
       "      <td>-122.44</td>\n",
       "      <td>House</td>\n",
       "      <td>Entire home/apt</td>\n",
       "      <td>4</td>\n",
       "      <td>7</td>\n",
       "      <td>2</td>\n",
       "      <td>1</td>\n",
       "    </tr>\n",
       "    <tr>\n",
       "      <th>2758</th>\n",
       "      <td>14453697</td>\n",
       "      <td>37.71</td>\n",
       "      <td>-122.46</td>\n",
       "      <td>Townhouse</td>\n",
       "      <td>Entire home/apt</td>\n",
       "      <td>4</td>\n",
       "      <td>6</td>\n",
       "      <td>2</td>\n",
       "      <td>689</td>\n",
       "    </tr>\n",
       "    <tr>\n",
       "      <th>3444</th>\n",
       "      <td>18504951</td>\n",
       "      <td>37.76</td>\n",
       "      <td>-122.43</td>\n",
       "      <td>House</td>\n",
       "      <td>Entire home/apt</td>\n",
       "      <td>2</td>\n",
       "      <td>6</td>\n",
       "      <td>2</td>\n",
       "      <td>1</td>\n",
       "    </tr>\n",
       "    <tr>\n",
       "      <th>4262</th>\n",
       "      <td>22508553</td>\n",
       "      <td>37.76</td>\n",
       "      <td>-122.44</td>\n",
       "      <td>Serviced apartment</td>\n",
       "      <td>Entire home/apt</td>\n",
       "      <td>4</td>\n",
       "      <td>6</td>\n",
       "      <td>90</td>\n",
       "      <td>460</td>\n",
       "    </tr>\n",
       "    <tr>\n",
       "      <th>4276</th>\n",
       "      <td>22555972</td>\n",
       "      <td>37.78</td>\n",
       "      <td>-122.44</td>\n",
       "      <td>House</td>\n",
       "      <td>Entire home/apt</td>\n",
       "      <td>4</td>\n",
       "      <td>8</td>\n",
       "      <td>3</td>\n",
       "      <td>1</td>\n",
       "    </tr>\n",
       "    <tr>\n",
       "      <th>4789</th>\n",
       "      <td>24650875</td>\n",
       "      <td>37.78</td>\n",
       "      <td>-122.44</td>\n",
       "      <td>Condominium</td>\n",
       "      <td>Entire home/apt</td>\n",
       "      <td>3</td>\n",
       "      <td>6</td>\n",
       "      <td>2</td>\n",
       "      <td>1</td>\n",
       "    </tr>\n",
       "    <tr>\n",
       "      <th>5219</th>\n",
       "      <td>27312690</td>\n",
       "      <td>37.81</td>\n",
       "      <td>-122.44</td>\n",
       "      <td>Villa</td>\n",
       "      <td>Entire home/apt</td>\n",
       "      <td>5</td>\n",
       "      <td>6</td>\n",
       "      <td>3</td>\n",
       "      <td>2</td>\n",
       "    </tr>\n",
       "    <tr>\n",
       "      <th>6958</th>\n",
       "      <td>34642889</td>\n",
       "      <td>37.77</td>\n",
       "      <td>-122.44</td>\n",
       "      <td>House</td>\n",
       "      <td>Entire home/apt</td>\n",
       "      <td>4</td>\n",
       "      <td>6</td>\n",
       "      <td>2</td>\n",
       "      <td>1</td>\n",
       "    </tr>\n",
       "  </tbody>\n",
       "</table>\n",
       "</div>"
      ],
      "text/plain": [
       "            id  latitude  longitude       property_type        room_type  \\\n",
       "1909   8119395     37.79    -122.44               House  Entire home/apt   \n",
       "2021   8864274     37.79    -122.44               House  Entire home/apt   \n",
       "2210  10369097     37.77    -122.44               House  Entire home/apt   \n",
       "2386  11442093     37.78    -122.42      Boutique hotel     Private room   \n",
       "2502  12607119     37.80    -122.44               House  Entire home/apt   \n",
       "2758  14453697     37.71    -122.46           Townhouse  Entire home/apt   \n",
       "3444  18504951     37.76    -122.43               House  Entire home/apt   \n",
       "4262  22508553     37.76    -122.44  Serviced apartment  Entire home/apt   \n",
       "4276  22555972     37.78    -122.44               House  Entire home/apt   \n",
       "4789  24650875     37.78    -122.44         Condominium  Entire home/apt   \n",
       "5219  27312690     37.81    -122.44               Villa  Entire home/apt   \n",
       "6958  34642889     37.77    -122.44               House  Entire home/apt   \n",
       "\n",
       "      bathrooms  bedrooms  minimum_nights  price  \n",
       "1909          4         6               2      2  \n",
       "2021          4         6               4      1  \n",
       "2210          3         6               1    888  \n",
       "2386         14        14               7     69  \n",
       "2502          4         7               2      1  \n",
       "2758          4         6               2    689  \n",
       "3444          2         6               2      1  \n",
       "4262          4         6              90    460  \n",
       "4276          4         8               3      1  \n",
       "4789          3         6               2      1  \n",
       "5219          5         6               3      2  \n",
       "6958          4         6               2      1  "
      ]
     },
     "execution_count": 27,
     "metadata": {},
     "output_type": "execute_result"
    }
   ],
   "source": [
    "# Filtering the 'bedrooms' column to see affected rows/entries\n",
    "df.loc[df['bedrooms']>=6]"
   ]
  },
  {
   "cell_type": "markdown",
   "id": "eb9c8ef0",
   "metadata": {},
   "source": [
    "By intuition we are going to remove all `bedrooms` with the value of `6 upward` and this will remove the `bathrooms` outlier too and though this might hae impact on our model it will be minimal compare to the effect outlier could have."
   ]
  },
  {
   "cell_type": "code",
   "execution_count": 28,
   "id": "b685c777",
   "metadata": {},
   "outputs": [],
   "source": [
    "# Dropping the single row have the outlier highlighted above\n",
    "df.drop(df.loc[df['bedrooms']>=6].index, axis=0, inplace=True)"
   ]
  },
  {
   "cell_type": "markdown",
   "id": "496d77c6",
   "metadata": {},
   "source": [
    "##### 5.3. Categorical data encoding"
   ]
  },
  {
   "cell_type": "code",
   "execution_count": 29,
   "id": "9a1b49b4",
   "metadata": {},
   "outputs": [
    {
     "data": {
      "text/html": [
       "<div>\n",
       "<style scoped>\n",
       "    .dataframe tbody tr th:only-of-type {\n",
       "        vertical-align: middle;\n",
       "    }\n",
       "\n",
       "    .dataframe tbody tr th {\n",
       "        vertical-align: top;\n",
       "    }\n",
       "\n",
       "    .dataframe thead th {\n",
       "        text-align: right;\n",
       "    }\n",
       "</style>\n",
       "<table border=\"1\" class=\"dataframe\">\n",
       "  <thead>\n",
       "    <tr style=\"text-align: right;\">\n",
       "      <th></th>\n",
       "      <th>id</th>\n",
       "      <th>latitude</th>\n",
       "      <th>longitude</th>\n",
       "      <th>bathrooms</th>\n",
       "      <th>bedrooms</th>\n",
       "      <th>minimum_nights</th>\n",
       "      <th>property_type_Apartment</th>\n",
       "      <th>property_type_Bed and breakfast</th>\n",
       "      <th>property_type_Boutique hotel</th>\n",
       "      <th>property_type_Bungalow</th>\n",
       "      <th>...</th>\n",
       "      <th>property_type_Other</th>\n",
       "      <th>property_type_Resort</th>\n",
       "      <th>property_type_Serviced apartment</th>\n",
       "      <th>property_type_Tiny house</th>\n",
       "      <th>property_type_Townhouse</th>\n",
       "      <th>property_type_Villa</th>\n",
       "      <th>room_type_Hotel room</th>\n",
       "      <th>room_type_Private room</th>\n",
       "      <th>room_type_Shared room</th>\n",
       "      <th>price</th>\n",
       "    </tr>\n",
       "  </thead>\n",
       "  <tbody>\n",
       "    <tr>\n",
       "      <th>0</th>\n",
       "      <td>958</td>\n",
       "      <td>37.77</td>\n",
       "      <td>-122.43</td>\n",
       "      <td>1</td>\n",
       "      <td>1</td>\n",
       "      <td>1</td>\n",
       "      <td>1</td>\n",
       "      <td>0</td>\n",
       "      <td>0</td>\n",
       "      <td>0</td>\n",
       "      <td>...</td>\n",
       "      <td>0</td>\n",
       "      <td>0</td>\n",
       "      <td>0</td>\n",
       "      <td>0</td>\n",
       "      <td>0</td>\n",
       "      <td>0</td>\n",
       "      <td>0</td>\n",
       "      <td>0</td>\n",
       "      <td>0</td>\n",
       "      <td>170</td>\n",
       "    </tr>\n",
       "    <tr>\n",
       "      <th>1</th>\n",
       "      <td>3850</td>\n",
       "      <td>37.75</td>\n",
       "      <td>-122.46</td>\n",
       "      <td>1</td>\n",
       "      <td>1</td>\n",
       "      <td>1</td>\n",
       "      <td>0</td>\n",
       "      <td>0</td>\n",
       "      <td>0</td>\n",
       "      <td>0</td>\n",
       "      <td>...</td>\n",
       "      <td>0</td>\n",
       "      <td>0</td>\n",
       "      <td>0</td>\n",
       "      <td>0</td>\n",
       "      <td>0</td>\n",
       "      <td>0</td>\n",
       "      <td>0</td>\n",
       "      <td>1</td>\n",
       "      <td>0</td>\n",
       "      <td>99</td>\n",
       "    </tr>\n",
       "    <tr>\n",
       "      <th>2</th>\n",
       "      <td>5858</td>\n",
       "      <td>37.75</td>\n",
       "      <td>-122.42</td>\n",
       "      <td>1</td>\n",
       "      <td>2</td>\n",
       "      <td>30</td>\n",
       "      <td>1</td>\n",
       "      <td>0</td>\n",
       "      <td>0</td>\n",
       "      <td>0</td>\n",
       "      <td>...</td>\n",
       "      <td>0</td>\n",
       "      <td>0</td>\n",
       "      <td>0</td>\n",
       "      <td>0</td>\n",
       "      <td>0</td>\n",
       "      <td>0</td>\n",
       "      <td>0</td>\n",
       "      <td>0</td>\n",
       "      <td>0</td>\n",
       "      <td>235</td>\n",
       "    </tr>\n",
       "    <tr>\n",
       "      <th>3</th>\n",
       "      <td>7918</td>\n",
       "      <td>37.77</td>\n",
       "      <td>-122.45</td>\n",
       "      <td>4</td>\n",
       "      <td>1</td>\n",
       "      <td>32</td>\n",
       "      <td>1</td>\n",
       "      <td>0</td>\n",
       "      <td>0</td>\n",
       "      <td>0</td>\n",
       "      <td>...</td>\n",
       "      <td>0</td>\n",
       "      <td>0</td>\n",
       "      <td>0</td>\n",
       "      <td>0</td>\n",
       "      <td>0</td>\n",
       "      <td>0</td>\n",
       "      <td>0</td>\n",
       "      <td>1</td>\n",
       "      <td>0</td>\n",
       "      <td>65</td>\n",
       "    </tr>\n",
       "    <tr>\n",
       "      <th>4</th>\n",
       "      <td>8142</td>\n",
       "      <td>37.76</td>\n",
       "      <td>-122.45</td>\n",
       "      <td>4</td>\n",
       "      <td>1</td>\n",
       "      <td>32</td>\n",
       "      <td>1</td>\n",
       "      <td>0</td>\n",
       "      <td>0</td>\n",
       "      <td>0</td>\n",
       "      <td>...</td>\n",
       "      <td>0</td>\n",
       "      <td>0</td>\n",
       "      <td>0</td>\n",
       "      <td>0</td>\n",
       "      <td>0</td>\n",
       "      <td>0</td>\n",
       "      <td>0</td>\n",
       "      <td>1</td>\n",
       "      <td>0</td>\n",
       "      <td>65</td>\n",
       "    </tr>\n",
       "  </tbody>\n",
       "</table>\n",
       "<p>5 rows × 35 columns</p>\n",
       "</div>"
      ],
      "text/plain": [
       "     id  latitude  longitude  bathrooms  bedrooms  minimum_nights  \\\n",
       "0   958     37.77    -122.43          1         1               1   \n",
       "1  3850     37.75    -122.46          1         1               1   \n",
       "2  5858     37.75    -122.42          1         2              30   \n",
       "3  7918     37.77    -122.45          4         1              32   \n",
       "4  8142     37.76    -122.45          4         1              32   \n",
       "\n",
       "   property_type_Apartment  property_type_Bed and breakfast  \\\n",
       "0                        1                                0   \n",
       "1                        0                                0   \n",
       "2                        1                                0   \n",
       "3                        1                                0   \n",
       "4                        1                                0   \n",
       "\n",
       "   property_type_Boutique hotel  property_type_Bungalow  ...  \\\n",
       "0                             0                       0  ...   \n",
       "1                             0                       0  ...   \n",
       "2                             0                       0  ...   \n",
       "3                             0                       0  ...   \n",
       "4                             0                       0  ...   \n",
       "\n",
       "   property_type_Other  property_type_Resort  \\\n",
       "0                    0                     0   \n",
       "1                    0                     0   \n",
       "2                    0                     0   \n",
       "3                    0                     0   \n",
       "4                    0                     0   \n",
       "\n",
       "   property_type_Serviced apartment  property_type_Tiny house  \\\n",
       "0                                 0                         0   \n",
       "1                                 0                         0   \n",
       "2                                 0                         0   \n",
       "3                                 0                         0   \n",
       "4                                 0                         0   \n",
       "\n",
       "   property_type_Townhouse  property_type_Villa  room_type_Hotel room  \\\n",
       "0                        0                    0                     0   \n",
       "1                        0                    0                     0   \n",
       "2                        0                    0                     0   \n",
       "3                        0                    0                     0   \n",
       "4                        0                    0                     0   \n",
       "\n",
       "   room_type_Private room  room_type_Shared room  price  \n",
       "0                       0                      0    170  \n",
       "1                       1                      0     99  \n",
       "2                       0                      0    235  \n",
       "3                       1                      0     65  \n",
       "4                       1                      0     65  \n",
       "\n",
       "[5 rows x 35 columns]"
      ]
     },
     "execution_count": 29,
     "metadata": {},
     "output_type": "execute_result"
    }
   ],
   "source": [
    "# encoding our categorical data to esstentially turn them into nuerical datatype\n",
    "df_encoded=pd.get_dummies(data=df, drop_first=True)\n",
    "\n",
    "# re-ordering the columns to have our target variable as the last column\n",
    "column_titles = [col for col in df_encoded.columns if col!= 'price'] + ['price']\n",
    "df_encoded=df_encoded.reindex(columns=column_titles)\n",
    "\n",
    "df_encoded.head()"
   ]
  },
  {
   "cell_type": "code",
   "execution_count": 30,
   "id": "0bfa28ca",
   "metadata": {},
   "outputs": [],
   "source": [
    "\n",
    "# dropping id since it just an indentification feature which does not have impact on `price`\n",
    "df_encoded = df_encoded.drop('id', axis=1)\n"
   ]
  },
  {
   "cell_type": "markdown",
   "id": "78bf6810",
   "metadata": {},
   "source": [
    "##### 5.4. Variable Selection by Correlation and Significance\n",
    "\n",
    "We now have 33 predictor variables to choose from, so we need a way of guiding us to choose the best ones to be our predictors. One way is to look at the correlations between the `price` and each variables in our DataFrame and select those with the strongest correlations (both positive and negative).\n",
    "\n",
    "We also need to consider how significant those features are. \n",
    "\n",
    "The code below will create a new DataFrame and store the correlation coefficents and p-values in that DataFrame for reference."
   ]
  },
  {
   "cell_type": "code",
   "execution_count": 31,
   "id": "899f8afb",
   "metadata": {},
   "outputs": [
    {
     "data": {
      "text/plain": [
       "price                               1.00\n",
       "bedrooms                            0.52\n",
       "bathrooms                           0.11\n",
       "property_type_Condominium           0.11\n",
       "latitude                            0.11\n",
       "property_type_Loft                  0.05\n",
       "property_type_Resort                0.04\n",
       "property_type_Hotel                 0.04\n",
       "property_type_Townhouse             0.04\n",
       "longitude                           0.02\n",
       "property_type_Earth house           0.02\n",
       "property_type_Cottage               0.01\n",
       "property_type_House                 0.01\n",
       "property_type_Guesthouse            0.01\n",
       "property_type_Serviced apartment    0.00\n",
       "property_type_Boutique hotel       -0.00\n",
       "property_type_Tiny house           -0.00\n",
       "property_type_In-law               -0.00\n",
       "property_type_Dome house           -0.00\n",
       "property_type_Cabin                -0.01\n",
       "property_type_Other                -0.01\n",
       "property_type_Bungalow             -0.01\n",
       "property_type_Hut                  -0.01\n",
       "property_type_Villa                -0.01\n",
       "property_type_Camper/RV            -0.01\n",
       "property_type_Castle               -0.01\n",
       "property_type_Bed and breakfast    -0.02\n",
       "room_type_Hotel room               -0.03\n",
       "property_type_Apartment            -0.05\n",
       "property_type_Guest suite          -0.06\n",
       "property_type_Hostel               -0.09\n",
       "minimum_nights                     -0.11\n",
       "room_type_Shared room              -0.16\n",
       "room_type_Private room             -0.32\n",
       "Name: price, dtype: float64"
      ]
     },
     "execution_count": 31,
     "metadata": {},
     "output_type": "execute_result"
    }
   ],
   "source": [
    "# Calculate correlations between predictor variables and the response variable\n",
    "corrs = df_encoded.corr()['price'].sort_values(ascending=False)\n",
    "corrs"
   ]
  },
  {
   "cell_type": "code",
   "execution_count": 32,
   "id": "c123a7e9",
   "metadata": {},
   "outputs": [
    {
     "data": {
      "text/html": [
       "<div>\n",
       "<style scoped>\n",
       "    .dataframe tbody tr th:only-of-type {\n",
       "        vertical-align: middle;\n",
       "    }\n",
       "\n",
       "    .dataframe tbody tr th {\n",
       "        vertical-align: top;\n",
       "    }\n",
       "\n",
       "    .dataframe thead th {\n",
       "        text-align: right;\n",
       "    }\n",
       "</style>\n",
       "<table border=\"1\" class=\"dataframe\">\n",
       "  <thead>\n",
       "    <tr style=\"text-align: right;\">\n",
       "      <th></th>\n",
       "      <th>Correlation_Coefficient</th>\n",
       "      <th>P_Value</th>\n",
       "    </tr>\n",
       "  </thead>\n",
       "  <tbody>\n",
       "    <tr>\n",
       "      <th>bedrooms</th>\n",
       "      <td>0.52</td>\n",
       "      <td>0.00</td>\n",
       "    </tr>\n",
       "    <tr>\n",
       "      <th>minimum_nights</th>\n",
       "      <td>-0.11</td>\n",
       "      <td>0.00</td>\n",
       "    </tr>\n",
       "    <tr>\n",
       "      <th>property_type_Hostel</th>\n",
       "      <td>-0.09</td>\n",
       "      <td>0.00</td>\n",
       "    </tr>\n",
       "    <tr>\n",
       "      <th>property_type_Guest suite</th>\n",
       "      <td>-0.06</td>\n",
       "      <td>0.00</td>\n",
       "    </tr>\n",
       "    <tr>\n",
       "      <th>room_type_Shared room</th>\n",
       "      <td>-0.16</td>\n",
       "      <td>0.00</td>\n",
       "    </tr>\n",
       "    <tr>\n",
       "      <th>room_type_Private room</th>\n",
       "      <td>-0.32</td>\n",
       "      <td>0.00</td>\n",
       "    </tr>\n",
       "    <tr>\n",
       "      <th>latitude</th>\n",
       "      <td>0.11</td>\n",
       "      <td>0.00</td>\n",
       "    </tr>\n",
       "    <tr>\n",
       "      <th>property_type_Condominium</th>\n",
       "      <td>0.11</td>\n",
       "      <td>0.00</td>\n",
       "    </tr>\n",
       "    <tr>\n",
       "      <th>bathrooms</th>\n",
       "      <td>0.11</td>\n",
       "      <td>0.00</td>\n",
       "    </tr>\n",
       "    <tr>\n",
       "      <th>property_type_Apartment</th>\n",
       "      <td>-0.05</td>\n",
       "      <td>0.00</td>\n",
       "    </tr>\n",
       "    <tr>\n",
       "      <th>property_type_Loft</th>\n",
       "      <td>0.05</td>\n",
       "      <td>0.00</td>\n",
       "    </tr>\n",
       "    <tr>\n",
       "      <th>property_type_Resort</th>\n",
       "      <td>0.04</td>\n",
       "      <td>0.00</td>\n",
       "    </tr>\n",
       "    <tr>\n",
       "      <th>property_type_Hotel</th>\n",
       "      <td>0.04</td>\n",
       "      <td>0.00</td>\n",
       "    </tr>\n",
       "    <tr>\n",
       "      <th>property_type_Townhouse</th>\n",
       "      <td>0.04</td>\n",
       "      <td>0.00</td>\n",
       "    </tr>\n",
       "    <tr>\n",
       "      <th>room_type_Hotel room</th>\n",
       "      <td>-0.03</td>\n",
       "      <td>0.01</td>\n",
       "    </tr>\n",
       "    <tr>\n",
       "      <th>longitude</th>\n",
       "      <td>0.02</td>\n",
       "      <td>0.06</td>\n",
       "    </tr>\n",
       "  </tbody>\n",
       "</table>\n",
       "</div>"
      ],
      "text/plain": [
       "                           Correlation_Coefficient  P_Value\n",
       "bedrooms                                      0.52     0.00\n",
       "minimum_nights                               -0.11     0.00\n",
       "property_type_Hostel                         -0.09     0.00\n",
       "property_type_Guest suite                    -0.06     0.00\n",
       "room_type_Shared room                        -0.16     0.00\n",
       "room_type_Private room                       -0.32     0.00\n",
       "latitude                                      0.11     0.00\n",
       "property_type_Condominium                     0.11     0.00\n",
       "bathrooms                                     0.11     0.00\n",
       "property_type_Apartment                      -0.05     0.00\n",
       "property_type_Loft                            0.05     0.00\n",
       "property_type_Resort                          0.04     0.00\n",
       "property_type_Hotel                           0.04     0.00\n",
       "property_type_Townhouse                       0.04     0.00\n",
       "room_type_Hotel room                         -0.03     0.01\n",
       "longitude                                     0.02     0.06"
      ]
     },
     "execution_count": 32,
     "metadata": {},
     "output_type": "execute_result"
    }
   ],
   "source": [
    "# Build a dictionary of correlation coefficients and p-values\n",
    "dict_cp = {}\n",
    "\n",
    "column_titles = [col for col in corrs.index if col!= 'price']\n",
    "for col in column_titles:\n",
    "    p_val = round(pearsonr(df_encoded[col], df_encoded['price'])[1],6)\n",
    "    dict_cp[col] = {'Correlation_Coefficient':corrs[col],\n",
    "                    'P_Value':p_val}\n",
    "    \n",
    "df_cp = pd.DataFrame(dict_cp).T\n",
    "df_cp_sorted = df_cp.sort_values('P_Value')\n",
    "df_cp_sorted[df_cp_sorted['P_Value']<0.1]"
   ]
  },
  {
   "cell_type": "markdown",
   "id": "a64731b6",
   "metadata": {},
   "source": [
    "Now, we've got a sorted list of the p-values and correlation coefficients for each of the features, when considered on their own.  \n",
    "\n",
    "If we were to use a logic test with a significance value of 5% (p-value < 0.05), we could only remove longitude, and so we can infer that other column are relatively statistically significant and since we don't have any multicolinearity we are going to just drop `longitude` feature "
   ]
  },
  {
   "cell_type": "code",
   "execution_count": 33,
   "id": "e4eea071",
   "metadata": {},
   "outputs": [
    {
     "name": "stdout",
     "output_type": "stream",
     "text": [
      "We are now left with 32 predictors\n"
     ]
    }
   ],
   "source": [
    "# dropping 'longitude' features\n",
    "df_encoded = df_encoded.drop('longitude', axis=1)\n",
    "print(f'We are now left with {len(df_encoded.columns)-1} predictors')"
   ]
  },
  {
   "cell_type": "markdown",
   "id": "9f2b3038",
   "metadata": {},
   "source": [
    "##### 5.5. Scaling predictors with Scikit Learn"
   ]
  },
  {
   "cell_type": "code",
   "execution_count": 177,
   "id": "d4ac7d49",
   "metadata": {},
   "outputs": [],
   "source": [
    "# Separating into predictors and target variable\n",
    "y = df_encoded[['price']]\n",
    "X = df_encoded.drop('price', axis=1)"
   ]
  },
  {
   "cell_type": "code",
   "execution_count": 178,
   "id": "dd9808ec",
   "metadata": {},
   "outputs": [],
   "source": [
    "# Spliting the new modifed dataset again to feed our model\n",
    "X_train, X_test, y_train, y_test = train_test_split(X, y, train_size=0.8, test_size=0.2,\n",
    "                                                      random_state=42)"
   ]
  },
  {
   "cell_type": "code",
   "execution_count": 179,
   "id": "1fe52d5c",
   "metadata": {},
   "outputs": [
    {
     "data": {
      "text/html": [
       "<div>\n",
       "<style scoped>\n",
       "    .dataframe tbody tr th:only-of-type {\n",
       "        vertical-align: middle;\n",
       "    }\n",
       "\n",
       "    .dataframe tbody tr th {\n",
       "        vertical-align: top;\n",
       "    }\n",
       "\n",
       "    .dataframe thead th {\n",
       "        text-align: right;\n",
       "    }\n",
       "</style>\n",
       "<table border=\"1\" class=\"dataframe\">\n",
       "  <thead>\n",
       "    <tr style=\"text-align: right;\">\n",
       "      <th></th>\n",
       "      <th>latitude</th>\n",
       "      <th>bathrooms</th>\n",
       "      <th>bedrooms</th>\n",
       "      <th>minimum_nights</th>\n",
       "      <th>property_type_Apartment</th>\n",
       "      <th>property_type_Bed and breakfast</th>\n",
       "      <th>property_type_Boutique hotel</th>\n",
       "      <th>property_type_Bungalow</th>\n",
       "      <th>property_type_Cabin</th>\n",
       "      <th>property_type_Camper/RV</th>\n",
       "      <th>...</th>\n",
       "      <th>property_type_Loft</th>\n",
       "      <th>property_type_Other</th>\n",
       "      <th>property_type_Resort</th>\n",
       "      <th>property_type_Serviced apartment</th>\n",
       "      <th>property_type_Tiny house</th>\n",
       "      <th>property_type_Townhouse</th>\n",
       "      <th>property_type_Villa</th>\n",
       "      <th>room_type_Hotel room</th>\n",
       "      <th>room_type_Private room</th>\n",
       "      <th>room_type_Shared room</th>\n",
       "    </tr>\n",
       "  </thead>\n",
       "  <tbody>\n",
       "    <tr>\n",
       "      <th>0</th>\n",
       "      <td>0.66</td>\n",
       "      <td>0.10</td>\n",
       "      <td>0.20</td>\n",
       "      <td>0.00</td>\n",
       "      <td>0.00</td>\n",
       "      <td>0.00</td>\n",
       "      <td>1.00</td>\n",
       "      <td>0.00</td>\n",
       "      <td>0.00</td>\n",
       "      <td>0.00</td>\n",
       "      <td>...</td>\n",
       "      <td>0.00</td>\n",
       "      <td>0.00</td>\n",
       "      <td>0.00</td>\n",
       "      <td>0.00</td>\n",
       "      <td>0.00</td>\n",
       "      <td>0.00</td>\n",
       "      <td>0.00</td>\n",
       "      <td>0.00</td>\n",
       "      <td>1.00</td>\n",
       "      <td>0.00</td>\n",
       "    </tr>\n",
       "    <tr>\n",
       "      <th>1</th>\n",
       "      <td>0.54</td>\n",
       "      <td>0.10</td>\n",
       "      <td>0.80</td>\n",
       "      <td>0.01</td>\n",
       "      <td>0.00</td>\n",
       "      <td>0.00</td>\n",
       "      <td>0.00</td>\n",
       "      <td>0.00</td>\n",
       "      <td>0.00</td>\n",
       "      <td>0.00</td>\n",
       "      <td>...</td>\n",
       "      <td>0.00</td>\n",
       "      <td>0.00</td>\n",
       "      <td>0.00</td>\n",
       "      <td>0.00</td>\n",
       "      <td>0.00</td>\n",
       "      <td>1.00</td>\n",
       "      <td>0.00</td>\n",
       "      <td>0.00</td>\n",
       "      <td>0.00</td>\n",
       "      <td>0.00</td>\n",
       "    </tr>\n",
       "    <tr>\n",
       "      <th>2</th>\n",
       "      <td>0.37</td>\n",
       "      <td>0.20</td>\n",
       "      <td>0.60</td>\n",
       "      <td>0.00</td>\n",
       "      <td>1.00</td>\n",
       "      <td>0.00</td>\n",
       "      <td>0.00</td>\n",
       "      <td>0.00</td>\n",
       "      <td>0.00</td>\n",
       "      <td>0.00</td>\n",
       "      <td>...</td>\n",
       "      <td>0.00</td>\n",
       "      <td>0.00</td>\n",
       "      <td>0.00</td>\n",
       "      <td>0.00</td>\n",
       "      <td>0.00</td>\n",
       "      <td>0.00</td>\n",
       "      <td>0.00</td>\n",
       "      <td>0.00</td>\n",
       "      <td>0.00</td>\n",
       "      <td>0.00</td>\n",
       "    </tr>\n",
       "    <tr>\n",
       "      <th>3</th>\n",
       "      <td>0.41</td>\n",
       "      <td>0.10</td>\n",
       "      <td>0.20</td>\n",
       "      <td>0.00</td>\n",
       "      <td>0.00</td>\n",
       "      <td>0.00</td>\n",
       "      <td>0.00</td>\n",
       "      <td>0.00</td>\n",
       "      <td>0.00</td>\n",
       "      <td>0.00</td>\n",
       "      <td>...</td>\n",
       "      <td>0.00</td>\n",
       "      <td>0.00</td>\n",
       "      <td>0.00</td>\n",
       "      <td>0.00</td>\n",
       "      <td>0.00</td>\n",
       "      <td>0.00</td>\n",
       "      <td>0.00</td>\n",
       "      <td>0.00</td>\n",
       "      <td>0.00</td>\n",
       "      <td>0.00</td>\n",
       "    </tr>\n",
       "    <tr>\n",
       "      <th>4</th>\n",
       "      <td>0.06</td>\n",
       "      <td>0.10</td>\n",
       "      <td>0.20</td>\n",
       "      <td>0.00</td>\n",
       "      <td>0.00</td>\n",
       "      <td>0.00</td>\n",
       "      <td>0.00</td>\n",
       "      <td>0.00</td>\n",
       "      <td>0.00</td>\n",
       "      <td>0.00</td>\n",
       "      <td>...</td>\n",
       "      <td>0.00</td>\n",
       "      <td>0.00</td>\n",
       "      <td>0.00</td>\n",
       "      <td>0.00</td>\n",
       "      <td>0.00</td>\n",
       "      <td>0.00</td>\n",
       "      <td>0.00</td>\n",
       "      <td>0.00</td>\n",
       "      <td>1.00</td>\n",
       "      <td>0.00</td>\n",
       "    </tr>\n",
       "  </tbody>\n",
       "</table>\n",
       "<p>5 rows × 32 columns</p>\n",
       "</div>"
      ],
      "text/plain": [
       "   latitude  bathrooms  bedrooms  minimum_nights  property_type_Apartment  \\\n",
       "0      0.66       0.10      0.20            0.00                     0.00   \n",
       "1      0.54       0.10      0.80            0.01                     0.00   \n",
       "2      0.37       0.20      0.60            0.00                     1.00   \n",
       "3      0.41       0.10      0.20            0.00                     0.00   \n",
       "4      0.06       0.10      0.20            0.00                     0.00   \n",
       "\n",
       "   property_type_Bed and breakfast  property_type_Boutique hotel  \\\n",
       "0                             0.00                          1.00   \n",
       "1                             0.00                          0.00   \n",
       "2                             0.00                          0.00   \n",
       "3                             0.00                          0.00   \n",
       "4                             0.00                          0.00   \n",
       "\n",
       "   property_type_Bungalow  property_type_Cabin  property_type_Camper/RV  ...  \\\n",
       "0                    0.00                 0.00                     0.00  ...   \n",
       "1                    0.00                 0.00                     0.00  ...   \n",
       "2                    0.00                 0.00                     0.00  ...   \n",
       "3                    0.00                 0.00                     0.00  ...   \n",
       "4                    0.00                 0.00                     0.00  ...   \n",
       "\n",
       "   property_type_Loft  property_type_Other  property_type_Resort  \\\n",
       "0                0.00                 0.00                  0.00   \n",
       "1                0.00                 0.00                  0.00   \n",
       "2                0.00                 0.00                  0.00   \n",
       "3                0.00                 0.00                  0.00   \n",
       "4                0.00                 0.00                  0.00   \n",
       "\n",
       "   property_type_Serviced apartment  property_type_Tiny house  \\\n",
       "0                              0.00                      0.00   \n",
       "1                              0.00                      0.00   \n",
       "2                              0.00                      0.00   \n",
       "3                              0.00                      0.00   \n",
       "4                              0.00                      0.00   \n",
       "\n",
       "   property_type_Townhouse  property_type_Villa  room_type_Hotel room  \\\n",
       "0                     0.00                 0.00                  0.00   \n",
       "1                     1.00                 0.00                  0.00   \n",
       "2                     0.00                 0.00                  0.00   \n",
       "3                     0.00                 0.00                  0.00   \n",
       "4                     0.00                 0.00                  0.00   \n",
       "\n",
       "   room_type_Private room  room_type_Shared room  \n",
       "0                    1.00                   0.00  \n",
       "1                    0.00                   0.00  \n",
       "2                    0.00                   0.00  \n",
       "3                    0.00                   0.00  \n",
       "4                    1.00                   0.00  \n",
       "\n",
       "[5 rows x 32 columns]"
      ]
     },
     "execution_count": 179,
     "metadata": {},
     "output_type": "execute_result"
    }
   ],
   "source": [
    "# Normalize data\n",
    "scaler = MinMaxScaler()\n",
    "X_scaled = scaler.fit_transform(X_train)\n",
    "X_normalize = pd.DataFrame(X_scaled, columns=X.columns)\n",
    "X_normalize.head()"
   ]
  },
  {
   "cell_type": "markdown",
   "id": "dd8892fb",
   "metadata": {},
   "source": [
    "<a id=\"six\"></a>\n",
    "## 6. Modelling\n",
    "<a class=\"anchor\" id=\"1.1\"></a>\n",
    "<a href=#cont>Back to Table of Contents</a>\n"
   ]
  },
  {
   "cell_type": "markdown",
   "id": "a6d575ef",
   "metadata": {},
   "source": [
    "Modelling Selected Regression to see which is best Suited for our Case study task"
   ]
  },
  {
   "cell_type": "markdown",
   "id": "66b906f1",
   "metadata": {},
   "source": [
    "##### 6.1. Regress all model"
   ]
  },
  {
   "cell_type": "code",
   "execution_count": 37,
   "id": "6d0f516a",
   "metadata": {},
   "outputs": [],
   "source": [
    "#  Creating a list of the regressor\n",
    "names = ['KNeighborsRegressor', 'GradientBoostingRegressor', 'KNeighborsRegressor',\n",
    "         'ExtraTreesRegressor', 'RandomForestRegressor', 'DecisionTreeRegressor',\n",
    "         'LinearRegression', 'Lasso', 'Ridge']"
   ]
  },
  {
   "cell_type": "code",
   "execution_count": 38,
   "id": "c33bbd1f",
   "metadata": {
    "colab": {
     "autoexec": {
      "startup": false,
      "wait_interval": 0
     }
    },
    "colab_type": "code",
    "id": "03qpwMKHYDpl"
   },
   "outputs": [],
   "source": [
    "# instantiate of the various regressor\n",
    "Regressor = [\n",
    "    KNeighborsRegressor(),\n",
    "    GradientBoostingRegressor(),\n",
    "    KNeighborsRegressor(),\n",
    "    ExtraTreesRegressor(),\n",
    "    RandomForestRegressor(),\n",
    "    DecisionTreeRegressor(),\n",
    "    LinearRegression(),\n",
    "    Lasso(),\n",
    "    Ridge()\n",
    "]"
   ]
  },
  {
   "cell_type": "code",
   "execution_count": 180,
   "id": "b8eeb8d2",
   "metadata": {
    "colab": {
     "autoexec": {
      "startup": false,
      "wait_interval": 0
     }
    },
    "colab_type": "code",
    "id": "yDS6jA4iYDpo",
    "outputId": "02b6c333-66cd-4a59-d95f-6c55cd6b81ae"
   },
   "outputs": [
    {
     "name": "stdout",
     "output_type": "stream",
     "text": [
      "Fitting KNeighborsRegressor model...\n",
      "... predicting\n",
      "... scoring\n",
      "Fitting GradientBoostingRegressor model...\n",
      "... predicting\n",
      "... scoring\n",
      "Fitting KNeighborsRegressor model...\n",
      "... predicting\n",
      "... scoring\n",
      "Fitting ExtraTreesRegressor model...\n",
      "... predicting\n",
      "... scoring\n",
      "Fitting RandomForestRegressor model...\n",
      "... predicting\n",
      "... scoring\n",
      "Fitting DecisionTreeRegressor model...\n",
      "... predicting\n",
      "... scoring\n",
      "Fitting LinearRegression model...\n",
      "... predicting\n",
      "... scoring\n",
      "Fitting Lasso model...\n",
      "... predicting\n",
      "... scoring\n",
      "Fitting Ridge model...\n",
      "... predicting\n",
      "... scoring\n",
      "... All done!\n"
     ]
    }
   ],
   "source": [
    "results = []\n",
    "models = {}\n",
    "\n",
    "for name, clf in zip(names, Regressor):    \n",
    "    print ('Fitting {:s} model...'.format(name))\n",
    "    run_time = %timeit -q -o clf.fit(X_train, y_train)\n",
    "    \n",
    "    print ('... predicting')\n",
    "    y_pred = clf.predict(X_train)   \n",
    "    y_pred_test = clf.predict(X_test)\n",
    "    \n",
    "    print ('... scoring')\n",
    "    mae  = metrics.mean_absolute_error(y_train, y_pred)\n",
    "    mse = metrics.mean_squared_error(y_train, y_pred)\n",
    "    r2_train = metrics.r2_score(y_train, y_pred)    \n",
    "    r2_test = metrics.r2_score(y_test, y_pred_test)    \n",
    "    \n",
    "    # Save the results to dictionaries\n",
    "    models[name] = clf    \n",
    "    \n",
    "    results.append([name, mae, mse, r2_train, r2_test, run_time.best])\n",
    "\n",
    "    \n",
    "results = pd.DataFrame(results, columns=['Regressor', 'MAE', 'MSE', 'R2_train', 'R2_test', 'Train Time'])\n",
    "results.set_index('Regressor', inplace= True)\n",
    "\n",
    "print ('... All done!')"
   ]
  },
  {
   "cell_type": "code",
   "execution_count": 40,
   "id": "932c6b2a",
   "metadata": {},
   "outputs": [
    {
     "data": {
      "text/html": [
       "<div>\n",
       "<style scoped>\n",
       "    .dataframe tbody tr th:only-of-type {\n",
       "        vertical-align: middle;\n",
       "    }\n",
       "\n",
       "    .dataframe tbody tr th {\n",
       "        vertical-align: top;\n",
       "    }\n",
       "\n",
       "    .dataframe thead th {\n",
       "        text-align: right;\n",
       "    }\n",
       "</style>\n",
       "<table border=\"1\" class=\"dataframe\">\n",
       "  <thead>\n",
       "    <tr style=\"text-align: right;\">\n",
       "      <th></th>\n",
       "      <th>MAE</th>\n",
       "      <th>MSE</th>\n",
       "      <th>R2_train</th>\n",
       "      <th>R2_test</th>\n",
       "      <th>Train Time</th>\n",
       "    </tr>\n",
       "    <tr>\n",
       "      <th>Regressor</th>\n",
       "      <th></th>\n",
       "      <th></th>\n",
       "      <th></th>\n",
       "      <th></th>\n",
       "      <th></th>\n",
       "    </tr>\n",
       "  </thead>\n",
       "  <tbody>\n",
       "    <tr>\n",
       "      <th>DecisionTreeRegressor</th>\n",
       "      <td>0.57</td>\n",
       "      <td>31.70</td>\n",
       "      <td>1.00</td>\n",
       "      <td>0.08</td>\n",
       "      <td>0.03</td>\n",
       "    </tr>\n",
       "    <tr>\n",
       "      <th>ExtraTreesRegressor</th>\n",
       "      <td>0.61</td>\n",
       "      <td>31.96</td>\n",
       "      <td>1.00</td>\n",
       "      <td>0.21</td>\n",
       "      <td>1.53</td>\n",
       "    </tr>\n",
       "    <tr>\n",
       "      <th>KNeighborsRegressor</th>\n",
       "      <td>53.89</td>\n",
       "      <td>8781.98</td>\n",
       "      <td>0.59</td>\n",
       "      <td>0.35</td>\n",
       "      <td>0.00</td>\n",
       "    </tr>\n",
       "    <tr>\n",
       "      <th>KNeighborsRegressor</th>\n",
       "      <td>53.89</td>\n",
       "      <td>8781.98</td>\n",
       "      <td>0.59</td>\n",
       "      <td>0.35</td>\n",
       "      <td>0.00</td>\n",
       "    </tr>\n",
       "    <tr>\n",
       "      <th>Lasso</th>\n",
       "      <td>74.00</td>\n",
       "      <td>13656.32</td>\n",
       "      <td>0.36</td>\n",
       "      <td>0.37</td>\n",
       "      <td>0.01</td>\n",
       "    </tr>\n",
       "    <tr>\n",
       "      <th>RandomForestRegressor</th>\n",
       "      <td>24.35</td>\n",
       "      <td>1835.70</td>\n",
       "      <td>0.91</td>\n",
       "      <td>0.38</td>\n",
       "      <td>1.62</td>\n",
       "    </tr>\n",
       "    <tr>\n",
       "      <th>Ridge</th>\n",
       "      <td>70.63</td>\n",
       "      <td>12940.33</td>\n",
       "      <td>0.40</td>\n",
       "      <td>0.41</td>\n",
       "      <td>0.00</td>\n",
       "    </tr>\n",
       "    <tr>\n",
       "      <th>LinearRegression</th>\n",
       "      <td>70.62</td>\n",
       "      <td>12937.90</td>\n",
       "      <td>0.40</td>\n",
       "      <td>0.41</td>\n",
       "      <td>0.01</td>\n",
       "    </tr>\n",
       "    <tr>\n",
       "      <th>GradientBoostingRegressor</th>\n",
       "      <td>61.41</td>\n",
       "      <td>10219.17</td>\n",
       "      <td>0.52</td>\n",
       "      <td>0.49</td>\n",
       "      <td>0.57</td>\n",
       "    </tr>\n",
       "  </tbody>\n",
       "</table>\n",
       "</div>"
      ],
      "text/plain": [
       "                            MAE      MSE  R2_train  R2_test  Train Time\n",
       "Regressor                                                              \n",
       "DecisionTreeRegressor      0.57    31.70      1.00     0.08        0.03\n",
       "ExtraTreesRegressor        0.61    31.96      1.00     0.21        1.53\n",
       "KNeighborsRegressor       53.89  8781.98      0.59     0.35        0.00\n",
       "KNeighborsRegressor       53.89  8781.98      0.59     0.35        0.00\n",
       "Lasso                     74.00 13656.32      0.36     0.37        0.01\n",
       "RandomForestRegressor     24.35  1835.70      0.91     0.38        1.62\n",
       "Ridge                     70.63 12940.33      0.40     0.41        0.00\n",
       "LinearRegression          70.62 12937.90      0.40     0.41        0.01\n",
       "GradientBoostingRegressor 61.41 10219.17      0.52     0.49        0.57"
      ]
     },
     "execution_count": 40,
     "metadata": {},
     "output_type": "execute_result"
    }
   ],
   "source": [
    "results.sort_values('R2_test', ascending=True)"
   ]
  },
  {
   "cell_type": "code",
   "execution_count": 41,
   "id": "96899bfa",
   "metadata": {},
   "outputs": [
    {
     "data": {
      "image/png": "[encoded data removed]",
      "text/plain": [
       "<Figure size 720x360 with 2 Axes>"
      ]
     },
     "metadata": {},
     "output_type": "display_data"
    }
   ],
   "source": [
    "fig, ax = plt.subplots(1, 2, figsize=(10, 5))\n",
    "results.sort_values('R2_test', ascending=False, inplace=True)\n",
    "results['R2_perc'] = results['R2_test']/sum(results['R2_test'])*100\n",
    "results['time_perc'] = results['Train Time']/sum(results['Train Time'])*100\n",
    "results.plot(y=['R2_test'], kind='bar', ax=ax[0])\n",
    "results.plot(y=['R2_perc', 'time_perc'], kind='bar', ax=ax[1])\n",
    "plt.show()"
   ]
  },
  {
   "cell_type": "markdown",
   "id": "07ec395f",
   "metadata": {},
   "source": [
    "`GradientBoostingRegressor` out performed other models, `Ridge and LinearRegression` also perform well, since they very light and take less time, we are going to tunning one Ridge model and compare with the ensembling method to see which actually perform better."
   ]
  },
  {
   "cell_type": "markdown",
   "id": "79ae6945",
   "metadata": {},
   "source": [
    "##### 6.2. Hyperparameter tunning with GridSearchCV"
   ]
  },
  {
   "cell_type": "markdown",
   "id": "5bfef51c",
   "metadata": {},
   "source": [
    "GradientBoostingRegressor tunning"
   ]
  },
  {
   "cell_type": "code",
   "execution_count": 42,
   "id": "c04939fd",
   "metadata": {},
   "outputs": [
    {
     "name": "stdout",
     "output_type": "stream",
     "text": [
      "Best Score: 0.4560193253881029\n",
      "Best Hyperparameters: GradientBoostingRegressor(criterion='mse', learning_rate=0.25, loss='ls',\n",
      "                          max_features='sqrt')\n"
     ]
    }
   ],
   "source": [
    "# Creating a parameters for our gridserachCV\n",
    "parameters = { 'loss' : ['ls', 'lad'],\n",
    "              'learning_rate' : (0.25, 0.5),\n",
    "              'criterion' : ['friedman_mse', 'mse'],\n",
    "              'max_features' : ['sqrt']\n",
    "             }\n",
    "\n",
    "# running the gridsearch and fitting a model\n",
    "grid_xgboost = GridSearchCV(GradientBoostingRegressor(), parameters, cv=3, n_jobs=-1)\n",
    "grid_xgboost.fit(X_train, y_train) \n",
    "  \n",
    "# summarize result\n",
    "print('Best Score: %s' % grid_xgboost.best_score_)\n",
    "print('Best Hyperparameters: %s' % grid_xgboost.best_estimator_)"
   ]
  },
  {
   "cell_type": "markdown",
   "id": "3e6ebfd2",
   "metadata": {},
   "source": [
    "Ridge tunning"
   ]
  },
  {
   "cell_type": "code",
   "execution_count": 43,
   "id": "a437f101",
   "metadata": {},
   "outputs": [
    {
     "name": "stdout",
     "output_type": "stream",
     "text": [
      "Best Score: -71.04188230471487\n",
      "Best Hyperparameters: Ridge(alpha=1, normalize=False, solver='lsqr')\n"
     ]
    }
   ],
   "source": [
    "# cross validation parameter\n",
    "cv = RepeatedKFold(n_splits=10, n_repeats=3, random_state=1)\n",
    "\n",
    "# Creating a parameters for our gridserachCV\n",
    "param = {\n",
    "    'solver':['svd', 'cholesky', 'lsqr', 'sag'],\n",
    "    'alpha': [1e-5, 1e-4, 1e-3, 1e-2, 1e-1, 1, 10, 100],\n",
    "    'fit_intercept':[True, False],\n",
    "    'normalize':[True, False]\n",
    "}\n",
    "\n",
    "# define and excute search \n",
    "grid_ridge = GridSearchCV(Ridge(), param, scoring='neg_mean_absolute_error', n_jobs=-1, cv=cv)\n",
    "grid_ridge.fit(X_train, y_train)\n",
    "\n",
    "# summarize result\n",
    "print('Best Score: %s' % grid_ridge.best_score_)\n",
    "print('Best Hyperparameters: %s' % grid_ridge.best_estimator_)"
   ]
  },
  {
   "cell_type": "markdown",
   "id": "4e921c2e",
   "metadata": {},
   "source": [
    "<a id=\"seven\"></a>\n",
    "## 7. Model Evaluation & Performance\n",
    "<a class=\"anchor\" id=\"1.1\"></a>\n",
    "<a href=#cont>Back to Table of Contents</a>"
   ]
  },
  {
   "cell_type": "markdown",
   "id": "9b8cda33",
   "metadata": {},
   "source": [
    "modelling with the best parameter result from the grid search"
   ]
  },
  {
   "cell_type": "code",
   "execution_count": 72,
   "id": "71001ca0",
   "metadata": {},
   "outputs": [
    {
     "data": {
      "text/html": [
       "<div>\n",
       "<style scoped>\n",
       "    .dataframe tbody tr th:only-of-type {\n",
       "        vertical-align: middle;\n",
       "    }\n",
       "\n",
       "    .dataframe tbody tr th {\n",
       "        vertical-align: top;\n",
       "    }\n",
       "\n",
       "    .dataframe thead th {\n",
       "        text-align: right;\n",
       "    }\n",
       "</style>\n",
       "<table border=\"1\" class=\"dataframe\">\n",
       "  <thead>\n",
       "    <tr style=\"text-align: right;\">\n",
       "      <th></th>\n",
       "      <th>MAE_train</th>\n",
       "      <th>MAE_test</th>\n",
       "      <th>R2_train</th>\n",
       "      <th>R2_test</th>\n",
       "    </tr>\n",
       "    <tr>\n",
       "      <th>Regressor</th>\n",
       "      <th></th>\n",
       "      <th></th>\n",
       "      <th></th>\n",
       "      <th></th>\n",
       "    </tr>\n",
       "  </thead>\n",
       "  <tbody>\n",
       "    <tr>\n",
       "      <th>Ridge</th>\n",
       "      <td>70.63</td>\n",
       "      <td>68.74</td>\n",
       "      <td>0.40</td>\n",
       "      <td>0.41</td>\n",
       "    </tr>\n",
       "    <tr>\n",
       "      <th>XGboost</th>\n",
       "      <td>61.45</td>\n",
       "      <td>63.85</td>\n",
       "      <td>0.53</td>\n",
       "      <td>0.48</td>\n",
       "    </tr>\n",
       "  </tbody>\n",
       "</table>\n",
       "</div>"
      ],
      "text/plain": [
       "           MAE_train  MAE_test  R2_train  R2_test\n",
       "Regressor                                        \n",
       "Ridge          70.63     68.74      0.40     0.41\n",
       "XGboost        61.45     63.85      0.53     0.48"
      ]
     },
     "execution_count": 72,
     "metadata": {},
     "output_type": "execute_result"
    }
   ],
   "source": [
    "# define model with the best estimators\n",
    "ridge = Ridge(alpha=1, normalize=False, solver='lsqr')\n",
    "xgboost = GradientBoostingRegressor(learning_rate=0.25, loss='ls', max_features='sqrt', random_state=42)\n",
    "\n",
    "model_dict = {\"Ridge\":ridge, \"XGboost\":xgboost}\n",
    "metric_list = []\n",
    "\n",
    "for name, model in model_dict.items():\n",
    "    model.fit(X_train, y_train)\n",
    "    predicts_train = model.predict(X_train)\n",
    "    predicts_test = model.predict(X_test)\n",
    "\n",
    "    # metrics calculation\n",
    "    mae_train = metrics.mean_absolute_error(y_train, predicts_train)\n",
    "    mae_test = metrics.mean_absolute_error(y_test, predicts_test)\n",
    "    r2_train = metrics.r2_score(y_train, predicts_train)\n",
    "    r2_test = metrics.r2_score(y_test, predicts_test)\n",
    "    metric_list.append([name, mae_train, mae_test, r2_train, r2_test])\n",
    "    # Saving the trained model as a pickle file\n",
    "    Pkl_Filename = f\"{name}_model.pkl\"  \n",
    "\n",
    "    with open(Pkl_Filename, 'wb') as file:  \n",
    "        pickle.dump(model, file)\n",
    "    \n",
    "model_df = pd.DataFrame(metric_list, columns=['Regressor', 'MAE_train', 'MAE_test', 'R2_train', 'R2_test'])\n",
    "model_df.set_index('Regressor', inplace= True)\n",
    "model_df"
   ]
  },
  {
   "cell_type": "markdown",
   "id": "e1e6821d",
   "metadata": {},
   "source": [
    "`XGboost` was overfitting and though perform better on unseen data, the performance may degrade with more unseen data, whereas `Ridge` can rather improve it performance with more unseen data"
   ]
  },
  {
   "cell_type": "code",
   "execution_count": null,
   "id": "c397a9c3",
   "metadata": {},
   "outputs": [],
   "source": [
    "predicts = ridge.predict(X_test)\n",
    "dict_df = {\"Actual\":y_test.price, \"Predicted\":predicts_test.ravel()}\n",
    "cal_ = pd.DataFrame(dict_df)\n",
    "cal_[\"diff\"] = cal_[\"Actual\"] - cal_[\"Predicted\"]\n",
    "cal_[\"count\"] = cal_[\"diff\"].apply(lambda x: 'better prediction' if x < 25 else 'over estimated')"
   ]
  },
  {
   "cell_type": "code",
   "execution_count": null,
   "id": "a287a1e5",
   "metadata": {},
   "outputs": [],
   "source": [
    "cal_['count'].value_counts(normalize=True).plot(kind='bar');"
   ]
  },
  {
   "cell_type": "markdown",
   "id": "8205ed83",
   "metadata": {},
   "source": [
    "Going by the instruction for the task we were able to achieve 73% accuracy. I.e. for price estimation that did pass the threshold of `25 USD off the actual price`"
   ]
  },
  {
   "cell_type": "markdown",
   "id": "dfc19e49",
   "metadata": {},
   "source": [
    "<a id=\"eight\"></a>\n",
    "## 8. Future works\n",
    "<a class=\"anchor\" id=\"1.1\"></a>\n",
    "<a href=#cont>Back to Table of Contents</a>"
   ]
  },
  {
   "cell_type": "markdown",
   "id": "103c032b",
   "metadata": {},
   "source": [
    "The work is far from over since our accuracy seem relatively not sufficent, there are still other data anaylsis tools, resources and more importantly improving our dataset, this are but few of the highlighted options for future improvement on the project\n",
    "* Latitude and Logitude does not well represent the location of a `living space`;\n",
    "    - Having precise location name\n",
    "    - Location attribute as features could give more data pattern<br><br>\n",
    "* `cleaner data` for attribute of a `living space`, for example we can't have a room of 1.5, it either 1 or 2 rooms by norm<br><br>\n",
    "* We can use this basic model to set standard range for renting price, In such away that the owner can still have choice inputting a price on his/her living space but within a certain threshold\n",
    "    - The insight from the EDA can guide in setting those threshold<br><br>\n",
    "* History or interesting information about the property or it community can be gather too.\n",
    "* Engineering new features and see evaluation how best they server our model<br><br>\n",
    "* Use more computing intensive and rigorous machine learning model, such as `nueral network`<br><br>\n",
    "Generally the model would do better with more data and features, gathering all related data to properties and experimenting the ones that best inform our modelling."
   ]
  },
  {
   "cell_type": "markdown",
   "id": "739e914a",
   "metadata": {},
   "source": [
    "<a id=\"nine\"></a>\n",
    "## 9. Outcome & Conclusion\n",
    "<a class=\"anchor\" id=\"1.1\"></a>\n",
    "<a href=#cont>Back to Table of Contents</a>"
   ]
  },
  {
   "cell_type": "markdown",
   "id": "aa163884",
   "metadata": {},
   "source": [
    "* In this project we have explore how each attribute or feature of a property affect pricing and the type of properties that are often be rent out<br><br>\n",
    "* We also see the most useful of this feature to predict or estimate price of renting out per night.<br><br>\n",
    "* Different Regressor was use where three of them performed better but two were choosen because two (LinearRegression and Rigde) had the same performance<br><br>\n",
    "* After `hyperparameter tunning` and `k-fold cross-validation` using `GridSearchCV` we were able to achieve a relative acurracy of 73% base of task guided instruction\n",
    "    - we discovered that `XGboost` was overfitting and had better better performance than `Ridge` model but in the end the result were so close it was both 73% on approximation<br><br>"
   ]
  },
  {
   "cell_type": "markdown",
   "id": "fe3d199d",
   "metadata": {},
   "source": [
    "<a id=\"ten\"></a>\n",
    "## 10. References\n",
    "<a class=\"anchor\" id=\"1.1\"></a>\n",
    "<a href=#cont>Back to Table of Contents</a>"
   ]
  },
  {
   "cell_type": "markdown",
   "id": "cf0f7d5b",
   "metadata": {},
   "source": [
    "\n",
    "* I got some idea from [Stack-Over-Flow](https://stackoverflow.com) especially for the GridsearchCV\n",
    "* Scikit-learn documentation from there webpage [scikit-learn](https://scikit-learn.org/stable/auto_examples/classification/plot_classifier_comparison.html)\n",
    "* [K Folds Cross validation Tutorial from Analytics Vidhya](https://www.analyticsvidhya.com/blog/2018/05/improve-model-performance-cross-validation-in-python-r/)\n",
    "* [sklearn tutorial on visualisation](http://scikit-learn.org/stable/auto_examples/classification/plot_classifier_comparison.html)\n",
    "* [Feature selection with real and categorical data](https://machinelearningmastery.com/feature-selection-with-real-and-categorical-data/)"
   ]
  }
 ],
 "metadata": {
  "colab": {
   "name": "Welcome to DataCamp Workspaces.ipynb",
   "provenance": []
  },
  "editor": "DataCamp Workspace",
  "kernelspec": {
   "display_name": "Python 3 (ipykernel)",
   "language": "python",
   "name": "python3"
  },
  "language_info": {
   "codemirror_mode": {
    "name": "ipython",
    "version": 3
   },
   "file_extension": ".py",
   "mimetype": "text/x-python",
   "name": "python",
   "nbconvert_exporter": "python",
   "pygments_lexer": "ipython3",
   "version": "3.9.2"
  }
 },
 "nbformat": 4,
 "nbformat_minor": 5
}
